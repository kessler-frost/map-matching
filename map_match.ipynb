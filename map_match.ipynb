{
 "nbformat": 4,
 "nbformat_minor": 2,
 "metadata": {
  "language_info": {
   "name": "python",
   "codemirror_mode": {
    "name": "ipython",
    "version": 3
   },
   "version": "3.7.4-final"
  },
  "orig_nbformat": 2,
  "file_extension": ".py",
  "mimetype": "text/x-python",
  "name": "python",
  "npconvert_exporter": "python",
  "pygments_lexer": "ipython3",
  "version": 3,
  "kernelspec": {
   "name": "python37464bitpy37condadd78f1f0527748878dccd5567db52a81",
   "display_name": "Python 3.7.4 64-bit ('py37': conda)"
  }
 },
 "cells": [
  {
   "cell_type": "code",
   "execution_count": 1,
   "metadata": {},
   "outputs": [],
   "source": [
    "import pandas as pd\n",
    "import numpy as np\n",
    "import pickle\n",
    "\n",
    "columns_probes = ['sampleID', 'dateTime', 'sourceCode', 'latitude', 'longitude', 'altitude', 'speed', 'heading']\n",
    "columns_links = ['linkPVID', 'refNodeID', 'nrefNodeID', 'length', 'functionalClass', 'directionOfTravel', 'speedCategory',\n",
    "                 'fromRefSpeedLimit', 'toRefSpeedLimit', 'fromRefNumLanes', 'toRefNumLanes', 'multiDigitized', 'urban',\n",
    "                 'timeZone', 'shapeInfo', 'curvatureInfo', 'slopeInfo']\n",
    "\n",
    "df_probes = pd.read_pickle('probes_pickle.pkl')\n",
    "df_links = pd.read_pickle('links_pickle.pkl')\n"
   ]
  },
  {
   "cell_type": "code",
   "execution_count": 2,
   "metadata": {},
   "outputs": [],
   "source": [
    "# probe_coord = [[df_probes['latitude'][i], df_probes['longitude'][i]] for i in range(len(df_probes))]\n",
    "# with open('probe_coord.pkl', 'wb') as f:\n",
    "#     pickle.dump(probe_coord, f)\n",
    "with open('probe_coord.pkl', 'rb') as f:\n",
    "    probe_coord = pickle.load(f)\n",
    "min_probe = np.min(probe_coord, axis=0)\n",
    "max_probe = np.max(probe_coord, axis=0)\n",
    "norm_probe_coord = (probe_coord - min_probe) / (max_probe - min_probe)"
   ]
  },
  {
   "cell_type": "code",
   "execution_count": 3,
   "metadata": {},
   "outputs": [],
   "source": [
    "link_shape = df_links['shapeInfo'].str.split('|')\n",
    "ref_coord = [link_shape[i][0].split('/') for i in range(len(link_shape))]\n",
    "nonref_coord = [link_shape[i][-1].split('/') for i in range(len(link_shape))]"
   ]
  },
  {
   "cell_type": "code",
   "execution_count": 4,
   "metadata": {},
   "outputs": [],
   "source": [
    "for i in range(len(ref_coord)):\n",
    "    for j in range(3):\n",
    "        if ref_coord[i][j] == '':\n",
    "            ref_coord[i][j] = '0'\n",
    "ref_coord = list(map(lambda sl: list(map(float, sl)), ref_coord))\n",
    "min_ref = np.min(ref_coord, axis=0)\n",
    "max_ref = np.max(ref_coord, axis=0)\n",
    "norm_ref_coord = (ref_coord - min_ref) / (max_ref - min_ref)\n",
    "\n",
    "for i in range(len(nonref_coord)):\n",
    "    for j in range(3):\n",
    "        if nonref_coord[i][j] == '':\n",
    "            nonref_coord[i][j] = '0'\n",
    "nonref_coord = list(map(lambda sl: list(map(float, sl)), nonref_coord))\n",
    "min_nonref = np.min(nonref_coord, axis=0)\n",
    "max_nonref = np.max(nonref_coord, axis=0)\n",
    "norm_nonref_coord = (nonref_coord - min_nonref) / (max_nonref - min_nonref)\n"
   ]
  },
  {
   "cell_type": "code",
   "execution_count": 5,
   "metadata": {},
   "outputs": [],
   "source": [
    "def dist(point_1, point_2):\n",
    "    # Using Euclidean distance since the points to be calculated\n",
    "    # are close enough to consider them existing on a 2-D plane\n",
    "    return np.srqt((point_1[0] - point_2[0]) ** 2 + (point_1[1] - point_2[1]) ** 2)\n",
    "\n",
    "def get_perp_dist(point, ref, non_ref):\n",
    "\n",
    "    if (non_ref[0] - ref[0]) == 0:\n",
    "        d = abs(point[0] - ref[0])\n",
    "    else:\n",
    "        m = (non_ref[1] - ref[1]) / (non_ref[0] - ref[0])\n",
    "        A = -m\n",
    "        C = m * ref[0] - ref[1]\n",
    "        d = abs(A * point[0] + point[1] + C)\n",
    "        d /= np.sqrt(m ** 2 + 1)\n",
    "    return d\n",
    "\n",
    "def get_perp_dist_list(point, refs, non_refs):\n",
    "    dist_list = []\n",
    "    for i in range(len(refs)):\n",
    "        dist_list.append(get_perp_dist(point, refs[i], non_refs[i]))\n",
    "    return np.array(dist_list)"
   ]
  },
  {
   "cell_type": "code",
   "execution_count": 6,
   "metadata": {},
   "outputs": [],
   "source": [
    "# # Combining everything for probe matching for all probe points\n",
    "# N = 10\n",
    "\n",
    "# matched_links_indices = []\n",
    "\n",
    "# # Getting perpendicular distance from all links for 1 probe point\n",
    "# orig_dist_list = get_perp_dist_list(norm_probe_coord[0], norm_ref_coord, norm_nonref_coord)\n",
    "# # Getting the index of the closest N perpendicular distances for 1 probe point\n",
    "# fake_dist_list = orig_dist_list.copy()\n",
    "# closest_n_ind = []\n",
    "# for i in range(N):\n",
    "#     closest_n_ind.append(fake_dist_list.argmin())\n",
    "#     fake_dist_list[closest_n_ind[i]] = np.inf\n",
    "# print(closest_n_ind)\n",
    "\n",
    "# for p_index in range(0, 64):  # len(df_probes[:])):\n",
    "\n",
    "#     # Second step of updating the distances for selection for 1 probe point.\n",
    "#     # Bearing calcualtion for 1 link.\n",
    "#     headings = []\n",
    "#     updated_dist_list = []\n",
    "#     for close_index in closest_n_ind:\n",
    "#         ref = ref_coord[close_index]\n",
    "#         non_ref = nonref_coord[close_index]\n",
    "        \n",
    "#         updated_dist_list.append(get_perp_dist(norm_probe_coord[p_index], norm_ref_coord[close_index], norm_nonref_coord[close_index]))\n",
    "\n",
    "#         # BEARING CALCULATIONS\n",
    "#         y = np.cos(non_ref[0]) * np.sin(non_ref[1] - ref[1])\n",
    "#         x = np.cos(ref[0]) * np.sin(non_ref[0]) - np.sin(ref[0]) * np.cos(non_ref[0]) * np.cos(non_ref[1] - ref[1])\n",
    "\n",
    "#         bearing = np.degrees(np.arctan2(y, x))\n",
    "#         if df_links['directionOfTravel'][close_index] == 'T':\n",
    "#             bearing = -bearing\n",
    "#         if bearing < 0:\n",
    "#             bearing += 360\n",
    "\n",
    "#         heading_factor = abs(df_probes['heading'][p_index] - bearing) / 720\n",
    "\n",
    "#         headings.append(heading_factor)\n",
    "\n",
    "#     headings = np.array(headings)\n",
    "    \n",
    "#     updated_dist_list /= updated_dist_list[-1]\n",
    "\n",
    "#     # print(updated_dist_list)\n",
    "#     # Creating the selection list\n",
    "#     selection_list = (updated_dist_list + headings) / 2\n",
    "    \n",
    "#     # print(selection_list)\n",
    "\n",
    "#     selected_probe_index = closest_n_ind[selection_list.argmin()]\n",
    "#     print(selected_probe_index)\n",
    "\n",
    "#     matched_links_indices.append(selected_probe_index)\n",
    "\n",
    "# # print(matched_links_indices)"
   ]
  },
  {
   "cell_type": "code",
   "execution_count": 13,
   "metadata": {},
   "outputs": [
    {
     "name": "stdout",
     "output_type": "stream",
     "text": "3496 0\n4552 63\n4553 125\n4554 187\n4555 249\n4556 311\n4557 373\n4558 435\n4559 497\n4560 559\n4561 633\n4562 695\n4563 757\n5583 819\n5734 881\n5735 892\n5736 954\n6212 965\n6213 1027\n6214 1089\n6215 1151\n6216 1213\n6217 1275\n6218 1337\n6219 1399\n6220 1461\n6221 1523\n6222 1585\n6223 1647\n7353 1709\n7354 1771\n7355 1832\n7356 1894\n7357 1956\n7358 2018\n7359 2080\n7360 2142\n7361 2204\n7362 2266\n7363 2328\n7364 2390\n7365 2452\n7366 2526\n7369 2588\n7885 2650\n7886 2717\n7887 2779\n8366 2841\n8367 2903\n8368 2965\n8369 3026\n9380 3088\n9381 3103\n9382 3159\n9383 3221\n9384 3283\n9385 3345\n9386 3407\n9387 3469\n9388 3531\n9389 3593\n9390 3655\n9391 3715\n9392 3772\n10537 3814\n13431 3876\n13432 3938\n13433 4000\n13434 4062\n13435 4124\n13436 4186\n13437 4248\n13438 4310\n13439 4372\n13440 4434\n14025 4496\n14026 4558\n14815 4620\n14816 4682\n14817 4744\n14818 4806\n14819 4873\n14820 4935\n14821 4997\n14822 5059\n14823 5121\n14824 5183\n14825 5245\n14826 5307\n14827 5369\n14828 5431\n14829 5493\n14830 5555\n14831 5617\n14832 5679\n14833 5741\n14834 5803\n14835 5865\n14836 5927\n14929 5989\n14930 5998\n14931 6031\n14932 6055\n14933 6085\n14945 6144\n14947 6204\n14956 6266\n14966 6327\n14982 6389\n14984 6451\n14985 6511\n14992 6573\n14999 6635\n15005 6697\n15008 6759\n15009 6821\n15011 6873\n15390 6882\n15394 6944\n15438 6980\n15439 7042\n15440 7104\n15441 7166\n15442 7228\n15443 7290\n15444 7352\n15445 7414\n15446 7476\n15447 7538\n15448 7600\n15449 7662\n15450 7724\n15451 7786\n15452 7848\n15453 7910\n15454 7972\n15455 8034\n15456 8096\n15457 8158\n15458 8220\n15459 8282\n15460 8344\n15461 8406\n15462 8469\n15463 8542\n15464 8604\n15465 8666\n15466 8728\n15467 8790\n15468 8852\n15469 8861\n15470 8923\n17736 8985\n17737 9047\n17738 9109\n17739 9171\n17740 9233\n17741 9295\n17742 9357\n17743 9419\n17744 9481\n17745 9543\n17749 9600\n17751 9662\n17754 9724\n17757 9786\n17758 9848\n17760 9855\n17764 9870\n17790 9920\n17828 9943\n17933 9991\n17934 10053\n17935 10085\n17936 10147\n17937 10209\n17938 10271\n17939 10333\n17940 10395\n17941 10455\n17944 10457\n17956 10519\n17970 10581\n17972 10643\n17974 10705\n17975 10767\n17976 10828\n17977 10882\n17983 10930\n17984 10945\n17989 10981\n18002 11043\n18009 11105\n18140 11167\n18141 11231\n18142 11293\n18143 11352\n18144 11414\n18145 11463\n18146 11525\n18420 11559\n18861 11629\n18862 11691\n21053 11753\n21054 11809\n21055 11871\n21056 11933\n21057 11995\n21058 12057\n21059 12119\n21060 12180\n21061 12242\n21062 12303\n21063 12364\n21064 12426\n21065 12487\n21066 12558\n21067 12635\n21068 12695\n21069 12757\n21070 12819\n21071 12881\n21072 12943\n21073 12995\n21074 13057\n21075 13119\n21076 13181\n21077 13243\n21078 13305\n24076 13365\n24077 13427\n24632 13489\n24633 13523\n24634 13585\n24635 13647\n24636 13709\n24676 13771\n25348 13776\n25349 13793\n25350 13855\n25351 13917\n25352 13979\n25353 14041\n25354 14103\n25355 14165\n25356 14227\n25357 14289\n25358 14351\n25359 14413\n25360 14475\n25361 14537\n25362 14599\n25363 14661\n25364 14723\n25365 14785\n25370 14847\n25371 14909\n25372 14977\n25373 15039\n25374 15101\n25375 15163\n25376 15225\n25488 15246\n25489 15308\n25490 15370\n25491 15432\n25492 15494\n25582 15556\n25589 15557\n25593 15566\n25594 15619\n25595 15681\n25596 15732\n25597 15794\n25598 15808\n25599 15868\n25600 15930\n25601 15992\n25602 16042\n25603 16081\n25604 16114\n25605 16165\n25606 16227\n25607 16289\n25608 16351\n25609 16413\n25610 16475\n25611 16525\n25612 16569\n26236 16596\n26686 16658\n26842 16732\n26843 16755\n26844 16817\n26845 16879\n26846 16941\n26852 17003\n28338 17065\n28339 17127\n28340 17189\n28341 17251\n28342 17318\n28343 17380\n28344 17442\n28345 17504\n28346 17556\n28347 17604\n28348 17666\n28349 17728\n28350 17790\n28351 17852\n28352 17914\n28353 17976\n28354 18038\n28355 18100\n28356 18122\n28357 18184\n28358 18246\n28359 18308\n28360 18370\n28361 18432\n28362 18494\n28363 18556\n28364 18618\n28365 18680\n28366 18742\n28367 18804\n28368 18866\n28369 18928\n28370 18990\n28371 19052\n28372 19114\n28373 19176\n28374 19238\n28375 19300\n28376 19362\n28377 19424\n28378 19486\n28379 19548\n28380 19610\n28381 19672\n28382 19734\n28383 19796\n28384 19861\n28385 19923\n28386 19985\n28387 20047\n28388 20109\n28389 20171\n28390 20233\n28391 20295\n28392 20357\n28393 20419\n28394 20481\n28692 20543\n28871 20605\n28872 20639\n28873 20701\n28874 20763\n28875 20825\n28876 20887\n28877 20953\n28878 21015\n28879 21077\n28880 21139\n28881 21201\n28882 21263\n28883 21325\n28884 21387\n28885 21449\n28886 21511\n28887 21573\n28888 21635\n28889 21697\n28890 21759\n28891 21821\n28892 21896\n28893 21958\n28894 22020\n28895 22082\n28896 22104\n29476 22146\n29477 22189\n29478 22251\n29479 22313\n29521 22375\n29522 22437\n29523 22497\n29800 22559\n29801 22621\n29802 22683\n29803 22745\n30759 22779\n30994 22841\n31236 22900\n31237 22964\n31238 23026\n31239 23088\n31360 23150\n31361 23212\n31362 23274\n31363 23336\n31364 23398\n31375 23460\n31376 23522\n31377 23584\n31378 23646\n31379 23708\n31380 23770\n31381 23832\n31382 23894\n31383 23956\n31384 24018\n31385 24080\n31386 24142\n31387 24204\n31388 24266\n31389 24328\n31390 24390\n31391 24452\n31392 24514\n31393 24576\n31394 24638\n31395 24644\n31396 24706\n31397 24768\n31398 24830\n31399 24891\n31400 24953\n31401 25015\n31402 25076\n31624 25138\n31625 25200\n31626 25262\n31627 25317\n31628 25362\n31629 25390\n31630 25446\n31631 25508\n31632 25570\n31633 25632\n31634 25694\n31635 25739\n31636 25784\n31637 25837\n31638 25899\n31639 25954\n31640 26013\n31642 26048\n31643 26087\n31644 26127\n31645 26179\n31646 26232\n31647 26254\n31648 26266\n31649 26324\n31650 26378\n31651 26425\n31652 26471\n31653 26533\n31654 26595\n31655 26657\n31666 26719\n31733 26787\n31832 26849\n31874 26911\n31875 26973\n31876 27035\n31877 27047\n31999 27109\n32217 27171\n32319 27233\n32320 27295\n32321 27357\n32322 27419\n32323 27490\n32324 27557\n32325 27619\n32326 27681\n32327 27740\n32328 27802\n32329 27864\n32330 27933\n32524 27995\n33404 28011\n33405 28073\n33406 28132\n33407 28192\n33408 28254\n33409 28316\n33410 28378\n33411 28440\n33412 28502\n33413 28564\n33842 28583\n33843 28620\n33844 28682\n34018 28744\n34391 28791\n34392 28853\n34393 28915\n34394 28977\n34395 29039\n34396 29101\n34397 29163\n34398 29225\n34399 29287\n34400 29349\n34401 29411\n34402 29473\n34403 29535\n34404 29597\n34405 29659\n34406 29721\n34496 29783\n34598 29845\n34776 29901\n35007 29921\n35008 29983\n35542 30048\n35600 30096\n35601 30158\n36101 30220\n36618 30239\n36619 30301\n36620 30363\n36621 30425\n36622 30487\n36623 30549\n36624 30611\n36625 30673\n36626 30735\n36627 30797\n36628 30859\n36629 30921\n36630 30983\n36631 31045\n36632 31107\n36633 31169\n36634 31231\n36635 31293\n36636 31355\n36637 31417\n36638 31479\n36639 31541\n36640 31603\n36641 31665\n36642 31727\n36643 31789\n36644 31851\n36645 31913\n36646 31975\n36673 32030\n36674 32090\n36675 32152\n36676 32214\n36677 32276\n36678 32338\n36679 32400\n36680 32462\n36681 32524\n36682 32586\n36683 32648\n36684 32711\n36685 32773\n36686 32835\n36687 32897\n37003 32959\n37004 33021\n37005 33083\n37006 33145\n37007 33207\n37008 33269\n37009 33331\n37010 33393\n37011 33455\n37012 33517\n37013 33579\n37014 33641\n37481 33703\n37482 33765\n37483 33827\n37484 33885\n37485 33947\n37937 34009\n37938 34033\n38395 34095\n38396 34157\n39840 34219\n40197 34281\n40548 34310\n40549 34338\n40643 34400\n41742 34462\n41743 34524\n41744 34586\n41745 34648\n41746 34709\n41747 34771\n41748 34833\n41749 34895\n41750 34957\n41751 35019\n41752 35081\n41753 35143\n41754 35205\n42417 35267\n42418 35329\n42419 35391\n42420 35453\n42421 35515\n42422 35577\n42423 35639\n42555 35690\n42556 35752\n42557 35814\n42558 35876\n42559 35938\n42560 36000\n42561 36062\n42562 36124\n42563 36186\n42564 36248\n42565 36310\n42566 36372\n42567 36434\n42568 36496\n42569 36558\n42570 36620\n42571 36682\n42572 36744\n42573 36806\n42677 36840\n43118 36915\n43119 36977\n43120 37039\n43121 37101\n43122 37163\n43123 37225\n43124 37287\n43125 37349\n44433 37409\n44434 37474\n44435 37536\n44436 37540\n44498 37602\n44499 37664\n44624 37722\n44645 37784\n44646 37846\n44912 37908\n45105 37970\n45706 38032\n45707 38094\n45708 38156\n45732 38218\n46440 38280\n46441 38342\n46442 38404\n46443 38466\n46444 38528\n46445 38590\n46446 38652\n46447 38714\n46448 38776\n46449 38831\n46450 38893\n46451 38959\n46452 39021\n46453 39083\n46454 39145\n46455 39207\n46456 39266\n46457 39327\n46458 39389\n46459 39451\n46460 39513\n46461 39575\n46462 39596\n46463 39612\n46464 39662\n46465 39724\n46466 39784\n46467 39846\n46468 39908\n46656 39970\n47264 40032\n47265 40094\n47266 40156\n47267 40218\n47268 40280\n47269 40342\n47270 40404\n47271 40466\n47272 40528\n47554 40590\n47788 40652\n47791 40714\n47794 40723\n47795 40760\n47796 40833\n47797 40902\n47798 40964\n47799 41026\n47800 41088\n47801 41150\n47802 41163\n47803 41168\n47804 41221\n48011 41283\n48012 41345\n49075 41407\n49153 41469\n49154 41531\n49155 41593\n49156 41655\n49157 41717\n49158 41779\n49159 41841\n49160 41903\n49161 41965\n49167 42027\n49168 42081\n49169 42143\n49170 42205\n49171 42267\n49172 42329\n49173 42391\n49174 42453\n49175 42515\n49176 42577\n49177 42639\n49178 42701\n49179 42763\n49180 42825\n49181 42887\n49389 42949\n49455 43011\n50468 43073\n50469 43132\n50470 43194\n50471 43256\n50472 43311\n50473 43373\n50474 43435\n51052 43437\n51165 43439\n51166 43486\n51167 43516\n51168 43578\n51169 43640\n51170 43702\n52115 43764\n52164 43769\n52600 43831\n53448 43893\n53449 43955\n53450 44017\n53451 44079\n53452 44141\n53453 44203\n53454 44265\n53455 44327\n53456 44389\n53457 44451\n54389 44513\n54654 44575\n55098 44637\n55099 44645\n55100 44707\n55101 44769\n55102 44839\n55103 44901\n55104 44963\n55105 45025\n55106 45087\n55107 45149\n55108 45211\n55109 45273\n55110 45335\n55111 45397\n55112 45459\n55113 45521\n55348 45583\n55349 45645\n55350 45707\n55351 45769\n55802 45831\n56829 45893\n57102 45939\n57259 46001\n57260 46008\n57261 46070\n57262 46132\n57263 46194\n57264 46256\n57265 46318\n57266 46380\n57267 46442\n57268 46504\n57269 46566\n57270 46621\n57271 46672\n57272 46734\n57273 46796\n57274 46858\n57275 46913\n57276 46975\n57277 47037\n57278 47099\n57279 47167\n57280 47230\n57281 47293\n57282 47355\n57283 47417\n57284 47481\n57417 47543\n57418 47570\n57419 47618\n57420 47677\n57421 47721\n57422 47783\n57423 47845\n57424 47907\n57425 47969\n57426 48031\n57427 48093\n57428 48155\n57429 48217\n57430 48279\n57431 48341\n57432 48403\n57433 48460\n57434 48537\n57435 48599\n57443 48643\n57805 48664\n57806 48726\n57807 48788\n57808 48850\n57809 48911\n57810 48973\n57811 49035\n57812 49097\n57813 49159\n57814 49221\n58446 49283\n58955 49345\n59446 49407\n59447 49469\n59448 49531\n59449 49593\n59450 49655\n59451 49717\n59452 49779\n59453 49841\n59454 49903\n59510 49965\n59511 50027\n59512 50089\n60011 50151\n60012 50177\n60363 50239\n60364 50268\n60365 50330\n60366 50392\n60367 50454\n60672 50516\n60673 50571\n62429 50628\n63048 50690\n63049 50752\n63050 50814\n63051 50876\n63052 50938\n63053 51000\n63054 51062\n63055 51124\n63056 51186\n63057 51248\n63058 51310\n63059 51372\n63060 51434\n63072 51459\n63118 51521\n63493 51583\n63560 51645\n64092 51707\n64366 51773\n64598 51842\n64971 51904\n64972 51966\n64973 52028\n64974 52090\n65117 52110\n65118 52172\n65119 52234\n65120 52296\n65121 52358\n65122 52420\n65123 52482\n65235 52544\n65236 52606\n65237 52668\n65238 52730\n65239 52792\n65240 52861\n65241 52923\n65242 52985\n65243 53005\n65244 53067\n65245 53129\n65935 53186\n68424 53217\n68791 53233\n69059 53292\n69060 53354\n69061 53416\n69062 53478\n69104 53540\n69105 53565\n69106 53627\n69107 53689\n69108 53751\n69109 53813\n69110 53875\n69111 53937\n69112 53999\n69113 54061\n69114 54123\n69115 54185\n69116 54247\n69117 54309\n69118 54371\n69119 54433\n69120 54495\n69121 54557\n69122 54629\n69123 54691\n69124 54753\n69125 54815\n69126 54877\n69127 54939\n69128 55001\n69129 55063\n69130 55125\n69131 55187\n69132 55249\n69133 55311\n69134 55373\n69656 55435\n70107 55497\n70166 55559\n70167 55621\n70168 55683\n70169 55745\n70172 55807\n70336 55869\n70337 55875\n70338 55937\n70339 55999\n70340 56061\n70341 56123\n70342 56185\n70343 56247\n70344 56309\n70345 56371\n70346 56433\n70347 56495\n70348 56557\n70349 56619\n70350 56681\n70666 56743\n71581 56805\n71741 56867\n72613 56898\n72651 56960\n72652 57025\n72653 57089\n73099 57154\n73100 57216\n73101 57278\n73102 57306\n73103 57368\n73104 57430\n73105 57492\n73106 57554\n73107 57616\n73108 57678\n73125 57740\n73126 57762\n73127 57804\n73128 57866\n73129 57928\n73130 57990\n73131 58052\n73132 58114\n73133 58176\n73134 58238\n73135 58300\n73136 58362\n73137 58424\n73138 58486\n73352 58512\n73353 58569\n73354 58607\n73355 58669\n73356 58731\n73357 58793\n73358 58855\n73359 58917\n73360 58979\n73361 59040\n73362 59102\n73363 59164\n73364 59226\n73365 59288\n73366 59350\n73367 59412\n73436 59474\n73437 59478\n73438 59518\n73439 59580\n73440 59642\n73441 59704\n73442 59766\n73443 59828\n73444 59890\n73445 59905\n75654 59917\n75655 59979\n75669 60041\n75670 60059\n75671 60121\n75672 60183\n75673 60245\n75674 60307\n75857 60369\n75858 60431\n75859 60493\n75860 60555\n75861 60617\n75862 60679\n75863 60741\n75864 60803\n75865 60865\n75866 60927\n76665 60989\n77649 61051\n78490 61113\n78534 61148\n78873 61178\n78874 61198\n78875 61213\n78876 61270\n79915 61332\n79916 61394\n79917 61456\n79918 61518\n79919 61580\n79920 61642\n79921 61704\n79922 61766\n79923 61828\n79924 61890\n79925 61951\n79926 62002\n79927 62064\n79928 62126\n79929 62136\n80228 62152\n80229 62214\n80230 62276\n80231 62338\n80314 62400\n80720 62462\n80721 62524\n80835 62525\n81164 62587\n81165 62637\n81166 62699\n81167 62753\n81168 62815\n81169 62877\n81170 62939\n81171 63001\n81172 63063\n81173 63125\n81185 63179\n81186 63208\n81187 63270\n81188 63332\n81189 63394\n81190 63456\n83795 63518\n83865 63580\n84445 63585\n84965 63633\n84966 63695\n84967 63757\n84968 63819\n84969 63881\n84970 63943\n84971 64005\n84972 64067\n84973 64129\n84974 64191\n84975 64253\n84976 64315\n84977 64377\n84978 64439\n84979 64501\n84980 64563\n84981 64625\n84982 64687\n84983 64749\n84984 64811\n84985 64873\n84986 64935\n84987 64997\n84988 65059\n84989 65121\n85283 65155\n85485 65217\n86188 65285\n86189 65347\n86190 65409\n86191 65471\n"
    },
    {
     "ename": "KeyboardInterrupt",
     "evalue": "",
     "output_type": "error",
     "traceback": [
      "\u001b[0;31m---------------------------------------------------------------------------\u001b[0m",
      "\u001b[0;31mKeyboardInterrupt\u001b[0m                         Traceback (most recent call last)",
      "\u001b[0;32m<ipython-input-13-72a76444a689>\u001b[0m in \u001b[0;36m<module>\u001b[0;34m\u001b[0m\n\u001b[1;32m      8\u001b[0m \u001b[0;34m\u001b[0m\u001b[0m\n\u001b[1;32m      9\u001b[0m     \u001b[0;31m# Getting perpendicular distance from all links for 1 probe point\u001b[0m\u001b[0;34m\u001b[0m\u001b[0;34m\u001b[0m\u001b[0;34m\u001b[0m\u001b[0m\n\u001b[0;32m---> 10\u001b[0;31m     \u001b[0morig_dist_list\u001b[0m \u001b[0;34m=\u001b[0m \u001b[0mget_perp_dist_list\u001b[0m\u001b[0;34m(\u001b[0m\u001b[0mnorm_probe_coord\u001b[0m\u001b[0;34m[\u001b[0m\u001b[0mp_index\u001b[0m\u001b[0;34m]\u001b[0m\u001b[0;34m,\u001b[0m \u001b[0mnorm_ref_coord\u001b[0m\u001b[0;34m,\u001b[0m \u001b[0mnorm_nonref_coord\u001b[0m\u001b[0;34m)\u001b[0m\u001b[0;34m\u001b[0m\u001b[0;34m\u001b[0m\u001b[0m\n\u001b[0m\u001b[1;32m     11\u001b[0m \u001b[0;34m\u001b[0m\u001b[0m\n\u001b[1;32m     12\u001b[0m     \u001b[0;31m# Getting the index of the closest N perpendicular distances for 1 probe point\u001b[0m\u001b[0;34m\u001b[0m\u001b[0;34m\u001b[0m\u001b[0;34m\u001b[0m\u001b[0m\n",
      "\u001b[0;32m<ipython-input-5-ec9eb779aacf>\u001b[0m in \u001b[0;36mget_perp_dist_list\u001b[0;34m(point, refs, non_refs)\u001b[0m\n\u001b[1;32m     19\u001b[0m     \u001b[0mdist_list\u001b[0m \u001b[0;34m=\u001b[0m \u001b[0;34m[\u001b[0m\u001b[0;34m]\u001b[0m\u001b[0;34m\u001b[0m\u001b[0;34m\u001b[0m\u001b[0m\n\u001b[1;32m     20\u001b[0m     \u001b[0;32mfor\u001b[0m \u001b[0mi\u001b[0m \u001b[0;32min\u001b[0m \u001b[0mrange\u001b[0m\u001b[0;34m(\u001b[0m\u001b[0mlen\u001b[0m\u001b[0;34m(\u001b[0m\u001b[0mrefs\u001b[0m\u001b[0;34m)\u001b[0m\u001b[0;34m)\u001b[0m\u001b[0;34m:\u001b[0m\u001b[0;34m\u001b[0m\u001b[0;34m\u001b[0m\u001b[0m\n\u001b[0;32m---> 21\u001b[0;31m         \u001b[0mdist_list\u001b[0m\u001b[0;34m.\u001b[0m\u001b[0mappend\u001b[0m\u001b[0;34m(\u001b[0m\u001b[0mget_perp_dist\u001b[0m\u001b[0;34m(\u001b[0m\u001b[0mpoint\u001b[0m\u001b[0;34m,\u001b[0m \u001b[0mrefs\u001b[0m\u001b[0;34m[\u001b[0m\u001b[0mi\u001b[0m\u001b[0;34m]\u001b[0m\u001b[0;34m,\u001b[0m \u001b[0mnon_refs\u001b[0m\u001b[0;34m[\u001b[0m\u001b[0mi\u001b[0m\u001b[0;34m]\u001b[0m\u001b[0;34m)\u001b[0m\u001b[0;34m)\u001b[0m\u001b[0;34m\u001b[0m\u001b[0;34m\u001b[0m\u001b[0m\n\u001b[0m\u001b[1;32m     22\u001b[0m     \u001b[0;32mreturn\u001b[0m \u001b[0mnp\u001b[0m\u001b[0;34m.\u001b[0m\u001b[0marray\u001b[0m\u001b[0;34m(\u001b[0m\u001b[0mdist_list\u001b[0m\u001b[0;34m)\u001b[0m\u001b[0;34m\u001b[0m\u001b[0;34m\u001b[0m\u001b[0m\n",
      "\u001b[0;32m<ipython-input-5-ec9eb779aacf>\u001b[0m in \u001b[0;36mget_perp_dist\u001b[0;34m(point, ref, non_ref)\u001b[0m\n\u001b[1;32m      9\u001b[0m         \u001b[0md\u001b[0m \u001b[0;34m=\u001b[0m \u001b[0mabs\u001b[0m\u001b[0;34m(\u001b[0m\u001b[0mpoint\u001b[0m\u001b[0;34m[\u001b[0m\u001b[0;36m0\u001b[0m\u001b[0;34m]\u001b[0m \u001b[0;34m-\u001b[0m \u001b[0mref\u001b[0m\u001b[0;34m[\u001b[0m\u001b[0;36m0\u001b[0m\u001b[0;34m]\u001b[0m\u001b[0;34m)\u001b[0m\u001b[0;34m\u001b[0m\u001b[0;34m\u001b[0m\u001b[0m\n\u001b[1;32m     10\u001b[0m     \u001b[0;32melse\u001b[0m\u001b[0;34m:\u001b[0m\u001b[0;34m\u001b[0m\u001b[0;34m\u001b[0m\u001b[0m\n\u001b[0;32m---> 11\u001b[0;31m         \u001b[0mm\u001b[0m \u001b[0;34m=\u001b[0m \u001b[0;34m(\u001b[0m\u001b[0mnon_ref\u001b[0m\u001b[0;34m[\u001b[0m\u001b[0;36m1\u001b[0m\u001b[0;34m]\u001b[0m \u001b[0;34m-\u001b[0m \u001b[0mref\u001b[0m\u001b[0;34m[\u001b[0m\u001b[0;36m1\u001b[0m\u001b[0;34m]\u001b[0m\u001b[0;34m)\u001b[0m \u001b[0;34m/\u001b[0m \u001b[0;34m(\u001b[0m\u001b[0mnon_ref\u001b[0m\u001b[0;34m[\u001b[0m\u001b[0;36m0\u001b[0m\u001b[0;34m]\u001b[0m \u001b[0;34m-\u001b[0m \u001b[0mref\u001b[0m\u001b[0;34m[\u001b[0m\u001b[0;36m0\u001b[0m\u001b[0;34m]\u001b[0m\u001b[0;34m)\u001b[0m\u001b[0;34m\u001b[0m\u001b[0;34m\u001b[0m\u001b[0m\n\u001b[0m\u001b[1;32m     12\u001b[0m         \u001b[0mA\u001b[0m \u001b[0;34m=\u001b[0m \u001b[0;34m-\u001b[0m\u001b[0mm\u001b[0m\u001b[0;34m\u001b[0m\u001b[0;34m\u001b[0m\u001b[0m\n\u001b[1;32m     13\u001b[0m         \u001b[0mC\u001b[0m \u001b[0;34m=\u001b[0m \u001b[0mm\u001b[0m \u001b[0;34m*\u001b[0m \u001b[0mref\u001b[0m\u001b[0;34m[\u001b[0m\u001b[0;36m0\u001b[0m\u001b[0;34m]\u001b[0m \u001b[0;34m-\u001b[0m \u001b[0mref\u001b[0m\u001b[0;34m[\u001b[0m\u001b[0;36m1\u001b[0m\u001b[0;34m]\u001b[0m\u001b[0;34m\u001b[0m\u001b[0;34m\u001b[0m\u001b[0m\n",
      "\u001b[0;31mKeyboardInterrupt\u001b[0m: "
     ]
    }
   ],
   "source": [
    "# Combining everything for probe matching for all probe points\n",
    "N = 10\n",
    "\n",
    "matched_links_indices = []\n",
    "p_index = 0\n",
    "\n",
    "for sampleID in df_probes['sampleID'].unique():\n",
    "\n",
    "    # Getting perpendicular distance from all links for 1 probe point\n",
    "    orig_dist_list = get_perp_dist_list(norm_probe_coord[p_index], norm_ref_coord, norm_nonref_coord)\n",
    "\n",
    "    # Getting the index of the closest N perpendicular distances for 1 probe point\n",
    "    fake_dist_list = orig_dist_list.copy()\n",
    "    closest_n_ind = []\n",
    "    for i in range(N):\n",
    "        closest_n_ind.append(fake_dist_list.argmin())\n",
    "        fake_dist_list[closest_n_ind[i]] = np.inf\n",
    "    # print(closest_n_ind)\n",
    "\n",
    "    print(sampleID, p_index)\n",
    "\n",
    "    while (df_probes['sampleID'][p_index] == sampleID):\n",
    "\n",
    "        # Second step of updating the distances for selection for 1 probe point.\n",
    "        # Bearing calcualtion for 1 link.\n",
    "        headings = []\n",
    "        updated_dist_list = []\n",
    "        for close_index in closest_n_ind:\n",
    "            ref = ref_coord[close_index]\n",
    "            non_ref = nonref_coord[close_index]\n",
    "            \n",
    "            updated_dist_list.append(get_perp_dist(norm_probe_coord[p_index], norm_ref_coord[close_index], norm_nonref_coord[close_index]))\n",
    "\n",
    "            # BEARING CALCULATIONS\n",
    "            y = np.cos(non_ref[0]) * np.sin(non_ref[1] - ref[1])\n",
    "            x = np.cos(ref[0]) * np.sin(non_ref[0]) - np.sin(ref[0]) * np.cos(non_ref[0]) * np.cos(non_ref[1] - ref[1])\n",
    "\n",
    "            bearing = np.degrees(np.arctan2(y, x))\n",
    "            if df_links['directionOfTravel'][close_index] == 'T':\n",
    "                bearing = -bearing\n",
    "            if bearing < 0:\n",
    "                bearing += 360\n",
    "\n",
    "            heading_factor = abs(df_probes['heading'][p_index] - bearing) / 720\n",
    "\n",
    "            headings.append(heading_factor)\n",
    "\n",
    "        headings = np.array(headings)\n",
    "        \n",
    "        updated_dist_list /= updated_dist_list[-1]\n",
    "\n",
    "        # print(updated_dist_list)\n",
    "        # Creating the selection list\n",
    "        selection_list = (updated_dist_list + headings) / 2\n",
    "        \n",
    "        # print(selection_list)\n",
    "\n",
    "        selected_probe_index = closest_n_ind[selection_list.argmin()]\n",
    "        # print(selected_probe_index)\n",
    "\n",
    "        matched_links_indices.append(selected_probe_index)\n",
    "\n",
    "        p_index += 1\n",
    "\n",
    "# print(matched_links_indices)"
   ]
  },
  {
   "cell_type": "code",
   "execution_count": 23,
   "metadata": {},
   "outputs": [
    {
     "ename": "NameError",
     "evalue": "name 'mathed_points_df' is not defined",
     "output_type": "error",
     "traceback": [
      "\u001b[0;31m---------------------------------------------------------------------------\u001b[0m",
      "\u001b[0;31mNameError\u001b[0m                                 Traceback (most recent call last)",
      "\u001b[0;32m<ipython-input-23-c45812f5aae1>\u001b[0m in \u001b[0;36m<module>\u001b[0;34m\u001b[0m\n\u001b[1;32m      1\u001b[0m \u001b[0mmatched_points_df\u001b[0m \u001b[0;34m=\u001b[0m \u001b[0mdf_probes\u001b[0m\u001b[0;34m.\u001b[0m\u001b[0mcopy\u001b[0m\u001b[0;34m(\u001b[0m\u001b[0;34m)\u001b[0m\u001b[0;34m\u001b[0m\u001b[0;34m\u001b[0m\u001b[0m\n\u001b[1;32m      2\u001b[0m \u001b[0mmatched_points_df\u001b[0m\u001b[0;34m[\u001b[0m\u001b[0;34m'linkPVID'\u001b[0m\u001b[0;34m]\u001b[0m \u001b[0;34m=\u001b[0m \u001b[0mdf_links\u001b[0m\u001b[0;34m[\u001b[0m\u001b[0;34m'linkPVID'\u001b[0m\u001b[0;34m]\u001b[0m\u001b[0;34m[\u001b[0m\u001b[0mmatched_links_indices\u001b[0m\u001b[0;34m]\u001b[0m\u001b[0;34m.\u001b[0m\u001b[0mreset_index\u001b[0m\u001b[0;34m(\u001b[0m\u001b[0mdrop\u001b[0m\u001b[0;34m=\u001b[0m\u001b[0;32mTrue\u001b[0m\u001b[0;34m)\u001b[0m\u001b[0;34m\u001b[0m\u001b[0;34m\u001b[0m\u001b[0m\n\u001b[0;32m----> 3\u001b[0;31m \u001b[0mmathed_points_df\u001b[0m\u001b[0;34m.\u001b[0m\u001b[0mto_pickle\u001b[0m\u001b[0;34m(\u001b[0m\u001b[0;34m'matched_points.pkl'\u001b[0m\u001b[0;34m)\u001b[0m\u001b[0;34m\u001b[0m\u001b[0;34m\u001b[0m\u001b[0m\n\u001b[0m",
      "\u001b[0;31mNameError\u001b[0m: name 'mathed_points_df' is not defined"
     ]
    }
   ],
   "source": [
    "matched_points_df = df_probes.copy()\n",
    "matched_points_df['linkPVID'] = df_links['linkPVID'][matched_links_indices].reset_index(drop=True)\n",
    "mathed_points_df.to_pickle('matched_points.pkl')"
   ]
  },
  {
   "cell_type": "code",
   "execution_count": null,
   "metadata": {},
   "outputs": [],
   "source": [
    "df_matched_points = pd.read_pickle('matched_points.pkl')\n",
    "print(df_matched_points)"
   ]
  },
  {
   "cell_type": "code",
   "execution_count": null,
   "metadata": {},
   "outputs": [],
   "source": []
  }
 ]
}