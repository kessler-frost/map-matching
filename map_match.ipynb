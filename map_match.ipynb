{
 "nbformat": 4,
 "nbformat_minor": 2,
 "metadata": {
  "language_info": {
   "name": "python",
   "codemirror_mode": {
    "name": "ipython",
    "version": 3
   },
   "version": "3.7.4-final"
  },
  "orig_nbformat": 2,
  "file_extension": ".py",
  "mimetype": "text/x-python",
  "name": "python",
  "npconvert_exporter": "python",
  "pygments_lexer": "ipython3",
  "version": 3,
  "kernelspec": {
   "name": "python37464bitpy37condadd78f1f0527748878dccd5567db52a81",
   "display_name": "Python 3.7.4 64-bit ('py37': conda)"
  }
 },
 "cells": [
  {
   "cell_type": "code",
   "execution_count": 1,
   "metadata": {},
   "outputs": [],
   "source": [
    "import pandas as pd\n",
    "import numpy as np\n",
    "import pickle\n",
    "\n",
    "# Radius of Earth\n",
    "R = 6371e3\n",
    "\n",
    "columns_probes = ['sampleID', 'dateTime', 'sourceCode', 'latitude', 'longitude', 'altitude', 'speed', 'heading']\n",
    "columns_links = ['linkPVID', 'refNodeID', 'nrefNodeID', 'length', 'functionalClass', 'directionOfTravel', 'speedCategory',\n",
    "                 'fromRefSpeedLimit', 'toRefSpeedLimit', 'fromRefNumLanes', 'toRefNumLanes', 'multiDigitized', 'urban',\n",
    "                 'timeZone', 'shapeInfo', 'curvatureInfo', 'slopeInfo']\n",
    "\n",
    "df_probes = pd.read_pickle('probes_pickle.pkl')\n",
    "df_links = pd.read_pickle('links_pickle.pkl')\n"
   ]
  },
  {
   "cell_type": "code",
   "execution_count": 2,
   "metadata": {},
   "outputs": [],
   "source": [
    "# probe_coord = [[df_probes['latitude'][i], df_probes['longitude'][i]] for i in range(len(df_probes))]\n",
    "# with open('probe_coord.pkl', 'wb') as f:\n",
    "#     pickle.dump(probe_coord, f)\n",
    "\n",
    "# Opening the pickled probes coordinates\n",
    "with open('probe_coord.pkl', 'rb') as f:\n",
    "    probe_coord = pickle.load(f)"
   ]
  },
  {
   "cell_type": "code",
   "execution_count": 3,
   "metadata": {},
   "outputs": [],
   "source": [
    "# Distinguishing the reference point and non-reference point of all links in two lists\n",
    "\n",
    "link_shape = df_links['shapeInfo'].str.split('|')\n",
    "ref_coord = [link_shape[i][0].split('/') for i in range(len(link_shape))]\n",
    "nonref_coord = [link_shape[i][-1].split('/') for i in range(len(link_shape))]"
   ]
  },
  {
   "cell_type": "code",
   "execution_count": 4,
   "metadata": {},
   "outputs": [],
   "source": [
    "# Replacing the elevation coordinate with 0 if its not present\n",
    "\n",
    "for i in range(len(ref_coord)):\n",
    "    for j in range(3):\n",
    "        if ref_coord[i][j] == '':\n",
    "            ref_coord[i][j] = '0'\n",
    "ref_coord = list(map(lambda sl: list(map(float, sl)), ref_coord))\n",
    "\n",
    "for i in range(len(nonref_coord)):\n",
    "    for j in range(3):\n",
    "        if nonref_coord[i][j] == '':\n",
    "            nonref_coord[i][j] = '0'\n",
    "nonref_coord = list(map(lambda sl: list(map(float, sl)), nonref_coord))\n"
   ]
  },
  {
   "cell_type": "code",
   "execution_count": 5,
   "metadata": {},
   "outputs": [],
   "source": [
    "# Functions to get Bearing between two points, distance of a point from a Great Circle Path given by two points (reference and non reference in this case), \n",
    "# and getting a list of great circle path distances for all the links from a certain point (probe coordinate).\n",
    "\n",
    "def get_bearing(point_1, point_2):\n",
    "    y = np.cos(point_2[0]) * np.sin(point_2[1] - point_1[1])\n",
    "    x = np.cos(point_1[0]) * np.sin(point_2[0]) - np.sin(point_1[0]) * np.cos(point_2[0]) * np.cos(point_2[1] - point_1[1])\n",
    "    return (np.degrees(np.arctan2(y, x)) + 360) % 360\n",
    "\n",
    "def get_dist_from_path(point, ref, non_ref):\n",
    "    ra_ref = np.radians(ref)\n",
    "    ra_point = np.radians(point)\n",
    "\n",
    "    angular_distance_13 = np.arccos(np.sin(ra_ref[0]) * np.sin(ra_point[0]) + np.cos(ra_ref[0]) * np.cos(ra_point[0]) * np.cos(abs(ra_point[1] - ra_ref[1])))\n",
    "    theta_13 = get_bearing(ref, point)\n",
    "    theta_12 = get_bearing(ref, non_ref)\n",
    "\n",
    "    d = abs(np.arcsin(np.sin(angular_distance_13) * np.sin(theta_13 - theta_12)) * R)\n",
    "\n",
    "    return d\n",
    "\n",
    "def get_dist_list(point, ref, non_ref):\n",
    "    dist_list = []\n",
    "    for i in range(len(ref)):\n",
    "        dist_list.append(get_dist_from_path(point, ref[i], non_ref[i]))\n",
    "    return np.array(dist_list)"
   ]
  },
  {
   "cell_type": "code",
   "execution_count": 6,
   "metadata": {},
   "outputs": [
    {
     "name": "stdout",
     "output_type": "stream",
     "text": "3496 0\n[103262, 24977, 92503, 178880, 95440, 1, 196340, 90559, 198177, 178894]\n4552 63\n[173013, 155414, 89441, 89442, 62636, 92172, 66451, 197343, 163363, 180702]\n4553 125\n[184949, 180252, 112240, 38487, 23807, 38485, 78004, 120, 120557, 69411]\n"
    }
   ],
   "source": [
    "# Combining everything for probe matching for all probe points\n",
    "N = 10\n",
    "\n",
    "matched_links_indices = []\n",
    "dist_from_ref = []\n",
    "dist_from_link = []\n",
    "p_index = 0\n",
    "\n",
    "for sampleID in df_probes['sampleID'].unique()[:3]:\n",
    "\n",
    "    # Getting distance from all links for 1 probe point which will be used to calculate closest N links from it\n",
    "    dist_list = get_dist_list(probe_coord[p_index], ref_coord, nonref_coord)\n",
    "\n",
    "    # Getting the index of the closest N distances for 1 probe point which will remain constant for a Sample ID since\n",
    "    # probe points should not go really far away from their recent links\n",
    "    fake_dist_list = dist_list.copy()\n",
    "    closest_n_ind = []\n",
    "    for i in range(N):\n",
    "        closest_n_ind.append(fake_dist_list.argmin())\n",
    "        fake_dist_list[closest_n_ind[i]] = np.inf\n",
    "\n",
    "    print(sampleID, p_index)\n",
    "    print(closest_n_ind)\n",
    "\n",
    "    while (df_probes['sampleID'][p_index] == sampleID):\n",
    "\n",
    "        # For each probe point of a sample ID use the heading and its distance from the N links calculated earlier\n",
    "        # to create a selection criteria for the link\n",
    "        headings = []\n",
    "        updated_dist_list = []\n",
    "        for close_index in closest_n_ind:\n",
    "            ref = ref_coord[close_index]\n",
    "            non_ref = nonref_coord[close_index]\n",
    "            \n",
    "            # Measuring point to great circle path distance\n",
    "            updated_dist_list.append(get_dist_from_path(probe_coord[p_index], ref_coord[close_index], nonref_coord[close_index]))\n",
    "\n",
    "            # Bearing Calculations from reference to non reference point on the link\n",
    "            bearing = get_bearing(ref, non_ref)\n",
    "\n",
    "            heading_factor = abs(df_probes['heading'][p_index] - bearing) / 720\n",
    "\n",
    "            headings.append(heading_factor)\n",
    "\n",
    "        headings = np.array(headings)\n",
    "        \n",
    "        updated_dist_list /= updated_dist_list[-1]\n",
    "        # print(updated_dist_list)\n",
    "\n",
    "        # Creating the selection list\n",
    "        selection_list = (updated_dist_list + headings) / 2\n",
    "        # print(selection_list)\n",
    "\n",
    "        # Selected link's index\n",
    "        selected_link_index = closest_n_ind[selection_list.argmin()]\n",
    "        # print(selected_link_index)\n",
    "\n",
    "\n",
    "        # Info for the new dataframe to be formed as instructed in the readme\n",
    "        d = get_dist_from_path(probe_coord[p_index], ref_coord[selected_link_index], nonref_coord[selected_link_index])\n",
    "\n",
    "        # Calculating distance from the reference node to the map-matched probe point location on the link in decimal meters\n",
    "        ra_ref = np.radians(ref_coord[selected_link_index])\n",
    "        ra_point = np.radians(probe_coord[p_index])\n",
    "        angular_distance = np.arccos(np.sin(ra_ref[0]) * np.sin(ra_point[0]) + np.cos(ra_ref[0]) * np.cos(ra_point[0]) * np.cos(abs(ra_point[1] - ra_ref[1])))\n",
    "\n",
    "        along_track_d = np.arccos(np.cos(angular_distance) / np.cos(d / R)) * R\n",
    "\n",
    "\n",
    "        matched_links_indices.append(selected_link_index)\n",
    "        dist_from_ref.append(along_track_d)\n",
    "        dist_from_link.append(d)\n",
    "\n",
    "        p_index += 1\n",
    "\n",
    "# print(matched_links_indices)"
   ]
  },
  {
   "cell_type": "code",
   "execution_count": 7,
   "metadata": {},
   "outputs": [],
   "source": [
    "# Creating the matched points csv as described in the readme\n",
    "\n",
    "matched_points_df = df_probes.copy()[:len(matched_links_indices)]\n",
    "matched_points_df['linkPVID'] = df_links['linkPVID'][matched_links_indices].reset_index(drop=True)\n",
    "matched_points_df['direction'] = df_links['directionOfTravel'][matched_links_indices].reset_index(drop=True)\n",
    "matched_points_df = matched_points_df.replace('B', 'F')\n",
    "matched_points_df['distFromRef'] = dist_from_ref\n",
    "matched_points_df['distFromLink'] = dist_from_link\n",
    "# mathed_points_df.to_pickle('matched_points.pkl')\n",
    "matched_points_df.to_csv('matched_points_1.csv', index=False, header=True)"
   ]
  },
  {
   "cell_type": "code",
   "execution_count": null,
   "metadata": {},
   "outputs": [],
   "source": [
    "df_matched_points = pd.read_pickle('matched_points.pkl')\n",
    "print(df_matched_points)"
   ]
  },
  {
   "cell_type": "code",
   "execution_count": null,
   "metadata": {},
   "outputs": [],
   "source": []
  }
 ]
}