{
 "nbformat": 4,
 "nbformat_minor": 2,
 "metadata": {
  "language_info": {
   "name": "python",
   "codemirror_mode": {
    "name": "ipython",
    "version": 3
   },
   "version": "3.7.4-final"
  },
  "orig_nbformat": 2,
  "file_extension": ".py",
  "mimetype": "text/x-python",
  "name": "python",
  "npconvert_exporter": "python",
  "pygments_lexer": "ipython3",
  "version": 3,
  "kernelspec": {
   "name": "python37464bitpy37condadd78f1f0527748878dccd5567db52a81",
   "display_name": "Python 3.7.4 64-bit ('py37': conda)"
  }
 },
 "cells": [
  {
   "cell_type": "code",
   "execution_count": 1,
   "metadata": {},
   "outputs": [],
   "source": [
    "import pandas as pd\n",
    "import numpy as np\n",
    "import pickle\n",
    "\n",
    "# Radius of Earth\n",
    "R = 6371e3\n",
    "\n",
    "columns_probes = ['sampleID', 'dateTime', 'sourceCode', 'latitude', 'longitude', 'altitude', 'speed', 'heading']\n",
    "columns_links = ['linkPVID', 'refNodeID', 'nrefNodeID', 'length', 'functionalClass', 'directionOfTravel', 'speedCategory',\n",
    "                 'fromRefSpeedLimit', 'toRefSpeedLimit', 'fromRefNumLanes', 'toRefNumLanes', 'multiDigitized', 'urban',\n",
    "                 'timeZone', 'shapeInfo', 'curvatureInfo', 'slopeInfo']\n",
    "\n",
    "df_probes = pd.read_pickle('probes_pickle.pkl')\n",
    "df_links = pd.read_pickle('links_pickle.pkl')\n"
   ]
  },
  {
   "cell_type": "code",
   "execution_count": 2,
   "metadata": {},
   "outputs": [],
   "source": [
    "# Opening the pickled probes coordinates\n",
    "with open('probe_coord.pkl', 'rb') as f:\n",
    "    probe_coord = pickle.load(f)"
   ]
  },
  {
   "cell_type": "code",
   "execution_count": 3,
   "metadata": {},
   "outputs": [],
   "source": [
    "# Distinguishing the reference point and non-reference point of all links in two lists\n",
    "\n",
    "link_shape = df_links['shapeInfo'].str.split('|')\n",
    "ref_coord = [link_shape[i][0].split('/') for i in range(len(link_shape))]\n",
    "nonref_coord = [link_shape[i][-1].split('/') for i in range(len(link_shape))]"
   ]
  },
  {
   "cell_type": "code",
   "execution_count": 4,
   "metadata": {},
   "outputs": [],
   "source": [
    "# Replacing the elevation coordinate with 0 if its not present\n",
    "\n",
    "for i in range(len(ref_coord)):\n",
    "    for j in range(3):\n",
    "        if ref_coord[i][j] == '':\n",
    "            ref_coord[i][j] = '0'\n",
    "ref_coord = list(map(lambda sl: list(map(float, sl)), ref_coord))\n",
    "\n",
    "for i in range(len(nonref_coord)):\n",
    "    for j in range(3):\n",
    "        if nonref_coord[i][j] == '':\n",
    "            nonref_coord[i][j] = '0'\n",
    "nonref_coord = list(map(lambda sl: list(map(float, sl)), nonref_coord))\n"
   ]
  },
  {
   "cell_type": "code",
   "execution_count": 5,
   "metadata": {},
   "outputs": [],
   "source": [
    "# Functions to get Bearing between two points, distance of a point from a Great Circle Path given by two points (reference and non reference in this case), \n",
    "# and getting a list of great circle path distances for all the links from a certain point (probe coordinate).\n",
    "\n",
    "def get_bearing(point_1, point_2):\n",
    "    y = np.cos(point_2[0]) * np.sin(point_2[1] - point_1[1])\n",
    "    x = np.cos(point_1[0]) * np.sin(point_2[0]) - np.sin(point_1[0]) * np.cos(point_2[0]) * np.cos(point_2[1] - point_1[1])\n",
    "    return (np.degrees(np.arctan2(y, x)) + 360) % 360\n",
    "\n",
    "def get_dist_from_path(point, ref, non_ref):\n",
    "    ra_ref = np.radians(ref)\n",
    "    ra_point = np.radians(point)\n",
    "\n",
    "    angular_distance_13 = np.arccos(np.sin(ra_ref[0]) * np.sin(ra_point[0]) + np.cos(ra_ref[0]) * np.cos(ra_point[0]) * np.cos(abs(ra_point[1] - ra_ref[1])))\n",
    "    theta_13 = get_bearing(ref, point)\n",
    "    theta_12 = get_bearing(ref, non_ref)\n",
    "\n",
    "    d = abs(np.arcsin(np.sin(angular_distance_13) * np.sin(theta_13 - theta_12)) * R)\n",
    "\n",
    "    return d\n",
    "\n",
    "def get_dist_list(point, ref, non_ref):\n",
    "    dist_list = []\n",
    "    for i in range(len(ref)):\n",
    "        dist_list.append(get_dist_from_path(point, ref[i], non_ref[i]))\n",
    "    return np.array(dist_list)"
   ]
  },
  {
   "cell_type": "code",
   "execution_count": 6,
   "metadata": {},
   "outputs": [
    {
     "name": "stdout",
     "output_type": "stream",
     "text": "3496 0\n[103262, 24977, 92503, 178880, 95440, 1, 196340, 90559, 198177, 178894]\n4552 63\n[173013, 155414, 89441, 89442, 62636, 92172, 66451, 197343, 163363, 180702]\n4553 125\n[184949, 180252, 112240, 38487, 23807, 38485, 78004, 120, 120557, 69411]\n"
    }
   ],
   "source": [
    "# Combining everything for probe matching for all probe points\n",
    "N = 10\n",
    "\n",
    "matched_links_indices = []\n",
    "dist_from_ref = []\n",
    "dist_from_link = []\n",
    "p_index = 0\n",
    "\n",
    "for sampleID in df_probes['sampleID'].unique()[:3]:\n",
    "\n",
    "    # Getting distance from all links for 1 probe point which will be used to calculate closest N links from it\n",
    "    dist_list = get_dist_list(probe_coord[p_index], ref_coord, nonref_coord)\n",
    "\n",
    "    # Getting the index of the closest N distances for 1 probe point which will remain constant for a Sample ID since\n",
    "    # probe points should not go really far away from their recent links\n",
    "    fake_dist_list = dist_list.copy()\n",
    "    closest_n_ind = []\n",
    "    for i in range(N):\n",
    "        closest_n_ind.append(fake_dist_list.argmin())\n",
    "        fake_dist_list[closest_n_ind[i]] = np.inf\n",
    "\n",
    "    print(sampleID, p_index)\n",
    "    print(closest_n_ind)\n",
    "\n",
    "    while (p_index < len(df_probes)) and (df_probes['sampleID'][p_index] == sampleID):\n",
    "\n",
    "        # For each probe point of a sample ID use the heading and its distance from the N links calculated earlier\n",
    "        # to create a selection criteria for the link\n",
    "        headings = []\n",
    "        updated_dist_list = []\n",
    "        for close_index in closest_n_ind:\n",
    "            ref = ref_coord[close_index]\n",
    "            non_ref = nonref_coord[close_index]\n",
    "            \n",
    "            # Measuring point to great circle path distance\n",
    "            updated_dist_list.append(get_dist_from_path(probe_coord[p_index], ref_coord[close_index], nonref_coord[close_index]))\n",
    "\n",
    "            # Bearing Calculations from reference to non reference point on the link\n",
    "            bearing = get_bearing(ref, non_ref)\n",
    "\n",
    "            heading_factor = abs(df_probes['heading'][p_index] - bearing) / 720\n",
    "\n",
    "            headings.append(heading_factor)\n",
    "\n",
    "        headings = np.array(headings)\n",
    "\n",
    "        # Creating the selection list\n",
    "        selection_list = (updated_dist_list + headings) / 2\n",
    "\n",
    "        # Selected link's index\n",
    "        selected_link_index = closest_n_ind[selection_list.argmin()]\n",
    "\n",
    "\n",
    "        # Info for the new dataframe to be formed as instructed in the readme\n",
    "        d = get_dist_from_path(probe_coord[p_index], ref_coord[selected_link_index], nonref_coord[selected_link_index])\n",
    "\n",
    "        # Calculating distance from the reference node to the map-matched probe point location on the link in decimal meters\n",
    "        ra_ref = np.radians(ref_coord[selected_link_index])\n",
    "        ra_point = np.radians(probe_coord[p_index])\n",
    "        angular_distance = np.arccos(np.sin(ra_ref[0]) * np.sin(ra_point[0]) + np.cos(ra_ref[0]) * np.cos(ra_point[0]) * np.cos(abs(ra_point[1] - ra_ref[1])))\n",
    "\n",
    "        along_track_d = np.arccos(np.cos(angular_distance) / np.cos(d / R)) * R\n",
    "\n",
    "\n",
    "        matched_links_indices.append(selected_link_index)\n",
    "        dist_from_ref.append(along_track_d)\n",
    "        dist_from_link.append(d)\n",
    "\n",
    "        p_index += 1\n"
   ]
  },
  {
   "cell_type": "code",
   "execution_count": 7,
   "metadata": {},
   "outputs": [],
   "source": [
    "# Creating the matched points csv as described in the readme\n",
    "\n",
    "matched_points_df = df_probes.copy()[:len(matched_links_indices)]\n",
    "matched_points_df['linkPVID'] = df_links['linkPVID'][matched_links_indices].reset_index(drop=True)\n",
    "matched_points_df['direction'] = df_links['directionOfTravel'][matched_links_indices].reset_index(drop=True)\n",
    "matched_points_df = matched_points_df.replace('B', 'F')\n",
    "matched_points_df['distFromRef'] = dist_from_ref\n",
    "matched_points_df['distFromLink'] = dist_from_link\n",
    "\n",
    "matched_points_df.to_csv('matched_points.csv', index=False, header=True)"
   ]
  },
  {
   "cell_type": "code",
   "execution_count": 8,
   "metadata": {},
   "outputs": [
    {
     "name": "stdout",
     "output_type": "stream",
     "text": "sampleID               dateTime  sourceCode   latitude  longitude  \\\n0        3496   6/12/2009 6:12:49 AM          13  51.496868   9.386022   \n1        3496   6/12/2009 6:12:54 AM          13  51.496682   9.386157   \n2        3496   6/12/2009 6:12:59 AM          13  51.496705   9.386422   \n3        3496   6/12/2009 6:13:04 AM          13  51.496749   9.386840   \n4        3496   6/12/2009 6:13:09 AM          13  51.496864   9.387294   \n..        ...                    ...         ...        ...        ...   \n182      4553  6/13/2009 11:45:52 AM          13  53.062488   8.788583   \n183      4553  6/13/2009 11:45:57 AM          13  53.062488   8.788583   \n184      4553  6/13/2009 11:46:03 AM          13  53.062489   8.788584   \n185      4553  6/13/2009 11:46:08 AM          13  53.062489   8.788583   \n186      4553  6/13/2009 11:46:13 AM          13  53.062489   8.788584   \n\n     altitude  speed  heading   linkPVID direction    distFromRef  \\\n0         200     23      339   51914420         F  103268.199398   \n1         200     10      129  567329767         F      12.399146   \n2         201     21       60  567329767         F      10.434681   \n3         201      0      360  567329767         F      20.407998   \n4         199      0      360  567329767         F      80.101542   \n..        ...    ...      ...        ...       ...            ...   \n182        37      0      199  726168530         F    6193.641922   \n183        36      0      203  726168530         F    6193.845798   \n184        36      0      209  726168530         F    6194.137508   \n185        37      0      198  726168530         F    6194.257566   \n186        37      0      206  726168530         F    6194.455607   \n\n     distFromLink  \n0        0.038156  \n1        0.857315  \n2       16.163155  \n3       41.489531  \n4        2.640791  \n..            ...  \n182    934.017556  \n183    932.645776  \n184    930.471333  \n185    929.944508  \n186    928.530157  \n\n[187 rows x 12 columns]\n"
    }
   ],
   "source": [
    "df_matched_points = pd.read_csv('matched_points.csv')"
   ]
  },
  {
   "cell_type": "code",
   "execution_count": 9,
   "metadata": {},
   "outputs": [],
   "source": [
    "df_avg_slope = df_links[['linkPVID']].copy()\n",
    "\n",
    "# Distinguishing slopes and finding average slope of a link\n",
    "link_slope = df_links['slopeInfo']\n",
    "link_slope = link_slope.fillna('0/0|0/0').str.split('|')\n",
    "avg_slope = np.array([(float(link_slope[i][0].split('/')[1]) + float(link_slope[i][1].split('/')[1])) / 2 for i in range(len(link_slope))])"
   ]
  },
  {
   "cell_type": "code",
   "execution_count": 10,
   "metadata": {},
   "outputs": [
    {
     "name": "stdout",
     "output_type": "stream",
     "text": "linkPVID  avg_slope\n0        62007637  -0.014441\n1       567329767  -0.014441\n2        62007648  -0.014441\n3        78670326  -0.014441\n4        51881672  -0.014000\n...           ...        ...\n200084  773675508  -0.014441\n200085  773675452  -0.014441\n200086  773675471  -0.014441\n200087   79691343  -0.014441\n200088   79691344  -0.014441\n\n[200089 rows x 2 columns]\n"
    }
   ],
   "source": [
    "# Replacing NAs with average of slope\n",
    "avg_slope[avg_slope == 0] = avg_slope.mean(axis=0)\n",
    "df_avg_slope['avg_slope'] = avg_slope"
   ]
  },
  {
   "cell_type": "code",
   "execution_count": 11,
   "metadata": {},
   "outputs": [],
   "source": [
    "p_index = 0\n",
    "X = []\n",
    "Y = []\n",
    "\n",
    "for sampleID in df_matched_points['sampleID'].unique():\n",
    "    time = 0\n",
    "    prev_alt = df_matched_points['altitude'][p_index]\n",
    "    prev_speed = df_matched_points['speed'][p_index]\n",
    "\n",
    "    while (p_index < len(df_matched_points) and (df_matched_points['sampleID'][p_index] == sampleID)):\n",
    "        \n",
    "        x = []\n",
    "\n",
    "        alt_changed = df_matched_points['altitude'][p_index] - prev_alt\n",
    "        prev_alt = df_matched_points['altitude'][p_index]\n",
    "\n",
    "        spd_changed = df_matched_points['speed'][p_index] - prev_speed\n",
    "        prev_speed = df_matched_points['speed'][p_index]\n",
    "\n",
    "        distance = prev_speed * time\n",
    "        time = 5\n",
    "\n",
    "        # Adding these as features to X\n",
    "        x.append(alt_changed)\n",
    "        x.append(spd_changed)\n",
    "        x.append(distance)\n",
    "        x.append(float(df_links['length'][df_links['linkPVID'] == df_matched_points['linkPVID'][p_index]]))\n",
    "\n",
    "        X.append(x)\n",
    "\n",
    "        # Adding Y\n",
    "        Y.append(round(float(df_avg_slope['avg_slope'][df_avg_slope['linkPVID'] == df_matched_points['linkPVID'][p_index]]), 5))\n",
    "\n",
    "        p_index += 1\n",
    "\n",
    "X = np.array(X)\n",
    "Y = np.array(Y)"
   ]
  },
  {
   "cell_type": "code",
   "execution_count": 12,
   "metadata": {},
   "outputs": [
    {
     "name": "stdout",
     "output_type": "stream",
     "text": "[[-0.03668002  0.01312953 -0.94282105 -0.83740491]\n [-0.03668002 -1.05079978 -0.4033243   1.03952994]\n [ 0.64923644  0.9133774   0.19012211  1.03952994]\n [-0.03668002 -1.7055255  -0.94282105  1.03952994]\n [-1.40851295  0.01312953 -0.94282105  1.03952994]\n [-0.72259649  0.4223331  -0.67307268  1.03952994]\n [-0.03668002 -0.31423334 -0.88887137  1.03952994]\n [-0.72259649 -0.06871119 -0.94282105  1.03952994]\n [-0.72259649  0.01312953 -0.94282105  1.03952994]\n [-0.03668002  0.01312953 -0.94282105  1.03952994]\n [ 0.64923644  0.01312953 -0.94282105  1.03952994]\n [-0.03668002  0.01312953 -0.94282105  1.03952994]\n [-0.03668002  0.01312953 -0.94282105  1.03952994]\n [-0.03668002  0.01312953 -0.94282105  1.03952994]\n [-0.03668002  0.01312953 -0.94282105  1.03952994]\n [-0.03668002  0.01312953 -0.94282105  1.03952994]\n [-0.03668002  0.01312953 -0.94282105  1.03952994]\n [-0.03668002  0.01312953 -0.94282105  1.03952994]\n [-0.03668002  0.01312953 -0.94282105  1.03952994]\n [-0.03668002  0.01312953 -0.94282105  1.03952994]\n [-0.03668002  0.01312953 -0.94282105  1.03952994]\n [-0.03668002  0.01312953 -0.94282105  1.03952994]\n [-0.03668002  0.01312953 -0.94282105  1.03952994]\n [-0.03668002  0.01312953 -0.94282105  1.03952994]\n [-0.03668002  0.01312953 -0.94282105  1.03952994]\n [-0.03668002  0.01312953 -0.94282105  1.03952994]\n [-0.03668002  0.01312953 -0.94282105  1.03952994]\n [-0.03668002  0.01312953 -0.94282105  1.03952994]\n [-0.03668002  0.01312953 -0.94282105  1.03952994]\n [-0.03668002  0.01312953 -0.94282105  1.03952994]\n [-0.03668002  0.01312953 -0.94282105  1.03952994]\n [-0.03668002  0.01312953 -0.94282105  1.03952994]\n [-0.03668002  0.01312953 -0.94282105  1.03952994]\n [-0.03668002  0.01312953 -0.94282105  1.03952994]\n [-0.03668002  0.01312953 -0.94282105  1.03952994]\n [-0.03668002  0.01312953 -0.94282105  1.03952994]\n [-0.03668002  0.01312953 -0.94282105  1.03952994]\n [-0.03668002  0.01312953 -0.94282105  1.03952994]\n [-0.03668002  0.01312953 -0.94282105  1.03952994]\n [ 0.64923644  0.01312953 -0.94282105  1.03952994]\n [-0.03668002  0.01312953 -0.94282105  1.03952994]\n [-0.03668002  0.01312953 -0.94282105  1.03952994]\n [-0.72259649  0.01312953 -0.94282105  1.03952994]\n [-0.72259649  0.58601454 -0.56517333  1.03952994]\n [ 0.64923644  0.9133774   0.02827309  1.03952994]\n [ 3.39290229 -0.23239262 -0.13357593  1.03952994]\n [-1.40851295  0.01312953 -0.13357593  1.03952994]\n [-0.72259649  0.34049239  0.08222277  1.03952994]\n [-0.72259649  0.4223331   0.35197114  1.03952994]\n [ 0.64923644  0.01312953  0.35197114  1.03952994]\n [ 0.64923644 -1.46000335 -0.619123   -0.83740491]\n [-0.72259649  0.09497024 -0.56517333  1.03952994]\n [ 1.3351529   1.24074026  0.24407179  1.03952994]\n [ 2.70698582  0.34049239  0.45987049  1.03952994]\n [ 2.02106936 -1.05079978 -0.24147528  1.03952994]\n [-0.72259649  1.07705883  0.45987049  1.03952994]\n [ 0.64923644  0.4223331   0.72961886  1.03952994]\n [ 2.02106936 -0.31423334  0.51382016  1.03952994]\n [-0.72259649 -0.23239262  0.35197114  1.03952994]\n [ 0.64923644 -1.54184407 -0.67307268  1.03952994]\n [-0.03668002 -0.23239262 -0.8349217   1.03952994]\n [-1.40851295 -0.06871119 -0.88887137  1.03952994]\n [-1.40851295 -0.06871119 -0.94282105  1.03952994]\n [-0.03668002  0.01312953 -0.94282105  4.35770244]\n [-0.03668002  0.66785525  0.72961886 -0.75056111]\n [-0.03668002  0.74969597  1.21516593 -0.75056111]\n [-0.03668002 -3.2604991  -0.94282105 -0.92277053]\n [-0.03668002  0.34049239 -0.72702235 -0.92277053]\n [-0.72259649 -0.23239262 -0.88887137 -0.92277053]\n [-0.03668002 -0.06871119 -0.94282105 -0.92277053]\n [ 0.64923644  0.01312953 -0.94282105 -0.92277053]\n [-0.72259649  0.01312953 -0.94282105 -0.92277053]\n [-0.03668002  0.09497024 -0.88887137 -0.92277053]\n [-0.03668002  0.01312953 -0.88887137 -0.92277053]\n [-0.03668002  1.24074026 -0.07962626 -0.92277053]\n [ 0.64923644  3.36859887  2.13231039 -1.11401168]\n [-0.03668002 -1.29632192  1.2691156  -0.92277053]\n [-0.03668002 -0.96895906  0.62171951 -0.65725021]\n [-0.72259649 -2.27841051 -0.88887137 -0.92277053]\n [-0.03668002  0.74969597 -0.4033243  -0.65725021]\n [ 1.3351529   1.40442169  0.51382016 -0.89782603]\n [ 1.3351529   1.32258098  1.37701495 -0.65725021]\n [-0.03668002 -3.50602124 -0.94282105 -0.92277053]\n [-0.03668002  4.02332459  1.700713   -0.65725021]\n [ 0.64923644 -0.96895906  1.05331691 -1.11401168]\n [ 0.64923644 -2.7694548  -0.78097202 -1.11401168]\n [-0.03668002 -0.23239262 -0.94282105 -1.11401168]\n [-0.72259649  0.01312953 -0.94282105 -1.11401168]\n [-0.03668002  0.01312953 -0.94282105 -1.11401168]\n [-0.03668002  0.01312953 -0.94282105 -1.11401168]\n [-0.03668002  0.01312953 -0.94282105 -1.11401168]\n [-0.03668002  0.01312953 -0.94282105 -1.11401168]\n [-0.03668002  0.01312953 -0.94282105 -1.11401168]\n [-0.03668002  0.01312953 -0.94282105 -1.11401168]\n [-0.03668002  0.01312953 -0.94282105 -1.11401168]\n [-0.03668002  0.34049239 -0.72702235 -1.11401168]\n [ 2.02106936  1.48626241  0.24407179 -0.65725021]\n [-0.03668002  0.34049239  0.45987049 -0.65725021]\n [-0.03668002  1.32258098  1.32306528 -0.92277053]\n [-0.03668002 -0.1505519   1.21516593  0.6709057 ]\n [-0.03668002 -3.2604991  -0.94282105 -1.11401168]\n [-0.72259649  3.77780244  1.53886397 -0.92277053]\n [ 0.64923644 -0.23239262  1.37701495 -0.92277053]\n [ 0.64923644 -0.47791477  1.05331691 -0.92277053]\n [ 0.64923644 -0.39607405  0.78356853 -1.11401168]\n [-0.72259649  0.50417382  1.10726658 -0.13821989]\n [ 0.64923644 -0.47791477  0.78356853 -0.89782603]\n [-0.03668002 -0.23239262  0.62171951 -1.11401168]\n [-0.03668002 -0.80527763  0.08222277 -1.11401168]\n [-0.03668002 -0.96895906 -0.56517333 -1.11401168]\n [-1.40851295 -0.39607405 -0.8349217  -1.11401168]\n [-0.72259649 -0.06871119 -0.88887137 -1.11401168]\n [ 0.64923644  1.15889955 -0.13357593 -0.65725021]\n [-0.72259649  1.32258098  0.72961886 -1.11401168]\n [-0.72259649  1.07705883  1.43096463 -1.11401168]\n [ 0.64923644  0.17681096  1.53886397 -0.65725021]\n [ 0.64923644  0.09497024  1.59281365 -0.65725021]\n [-0.03668002 -0.1505519   1.4849143  -0.65725021]\n [-1.40851295 -2.44209194 -0.13357593 -1.11401168]\n [-0.72259649 -1.21448121 -0.94282105 -1.11401168]\n [-0.03668002  0.01312953 -0.94282105 -1.11401168]\n [ 0.64923644  0.01312953 -0.94282105 -1.11401168]\n [-0.03668002  0.01312953 -0.94282105 -1.11401168]\n [-0.03668002  0.01312953 -0.94282105 -1.11401168]\n [ 2.02106936  1.32258098 -0.07962626 -1.11401168]\n [-0.03668002  0.01312953 -0.94282105 -0.71009559]\n [-3.46626233  1.64994384  0.13617244 -0.8987499 ]\n [ 0.64923644  0.58601454  0.51382016 -0.73818125]\n [-0.72259649  0.66785525  0.94541756 -0.86271896]\n [-0.03668002  0.74969597  1.43096463 -0.86271896]\n [ 1.3351529   0.17681096  1.53886397 -0.73818125]\n [-2.78034587  0.09497024  1.59281365 -0.8987499 ]\n [ 0.64923644 -0.23239262  1.43096463 -0.8987499 ]\n [-1.40851295  0.4223331   1.700713    0.87508104]\n [-3.46626233  0.4223331   1.97046137 -0.8987499 ]\n [-3.46626233  0.01312953  1.97046137  0.87508104]\n [-0.72259649 -0.1505519   1.86256202  0.87508104]\n [ 0.64923644 -0.55975548  1.4849143   0.87508104]\n [ 4.76473521 -1.37816264  0.56776984  0.87508104]\n [-0.03668002 -1.13264049 -0.18752561  0.87508104]\n [-0.72259649  0.09497024 -0.13357593  0.87508104]\n [ 2.70698582 -0.96895906 -0.78097202  0.87508104]\n [ 2.02106936 -0.23239262 -0.94282105  0.87508104]\n [-1.40851295  0.01312953 -0.94282105  0.87508104]\n [-1.40851295  1.24074026 -0.13357593  0.87508104]\n [ 0.64923644  0.9133774   0.45987049  0.87508104]\n [-0.03668002  0.4223331   0.72961886 -0.86271896]\n [-0.03668002  0.74969597  1.21516593  0.87508104]\n [-0.72259649  1.07705883  1.9165117  -0.71009559]\n [-0.03668002 -4.3244284  -0.94282105  0.87508104]\n [ 2.70698582  3.45043958  1.32306528  0.87508104]\n [-0.03668002  0.09497024  1.37701495  0.87508104]\n [-0.03668002  0.09497024  1.43096463  0.87508104]\n [ 1.3351529   0.01312953  1.43096463 -0.80248262]\n [ 1.3351529  -0.23239262  1.2691156  -0.73818125]\n [-0.03668002 -0.80527763  0.72961886 -0.86271896]\n [-0.03668002  0.09497024  0.78356853  0.87508104]\n [-1.40851295  0.17681096  0.89146788  0.87508104]\n [-0.72259649  0.74969597  1.37701495 -0.8987499 ]\n [ 0.64923644 -0.23239262  1.21516593 -0.8987499 ]\n [-0.03668002 -0.23239262  1.05331691 -0.8987499 ]\n [-0.03668002  0.01312953  1.05331691 -0.8987499 ]\n [-0.03668002  0.50417382  1.37701495 -0.73818125]\n [ 0.64923644  0.25865167  1.53886397 -0.73818125]\n [-1.40851295  0.17681096  1.64676332  0.87508104]\n [-0.03668002 -0.80527763  1.10726658 -0.71009559]\n [-0.03668002  0.09497024  1.16121625  0.87508104]\n [ 0.64923644 -0.1505519   1.05331691 -0.86271896]\n [-0.03668002 -0.88711835  0.45987049 -0.86271896]\n [ 1.3351529   0.34049239  0.67566918 -0.86271896]\n [-0.03668002  0.83153668  1.21516593 -0.8987499 ]\n [ 0.64923644  0.17681096  1.32306528 -0.8987499 ]\n [-0.03668002  0.09497024  1.37701495  0.87508104]\n [-0.72259649 -0.47791477  1.05331691 -0.73818125]\n [-0.03668002  0.25865167  1.21516593 -0.73818125]\n [ 0.64923644  0.01312953  1.21516593  0.87508104]\n [-0.72259649  0.01312953  1.21516593  0.87508104]\n [ 0.64923644 -0.55975548  0.83751821 -0.33999316]\n [-1.40851295 -1.29632192 -0.02567658 -0.80248262]\n [-1.40851295 -1.37816264 -0.94282105 -0.80248262]\n [-0.72259649  0.01312953 -0.94282105 -0.80248262]\n [-0.03668002  0.01312953 -0.94282105 -0.80248262]\n [-0.03668002  0.01312953 -0.94282105 -0.80248262]\n [-0.72259649  0.01312953 -0.94282105 -0.80248262]\n [-0.03668002  0.01312953 -0.94282105 -0.80248262]\n [ 0.64923644  0.01312953 -0.94282105 -0.80248262]\n [-0.03668002  0.01312953 -0.94282105 -0.80248262]]\n"
    }
   ],
   "source": [
    "# Normalizing X\n",
    "X = (X - X.mean(axis=0)) / X.std(axis=0)\n",
    "print(X)"
   ]
  },
  {
   "cell_type": "code",
   "execution_count": 13,
   "metadata": {},
   "outputs": [
    {
     "name": "stderr",
     "output_type": "stream",
     "text": "Using TensorFlow backend.\n"
    }
   ],
   "source": [
    "# Creating the NN model to predict average slope for the map matched probe points\n",
    "from keras.models import Sequential\n",
    "from keras.layers import Dense, PReLU\n",
    "from sklearn.model_selection import train_test_split\n",
    "\n",
    "# Creating 80-20 split between Train and Test\n",
    "x_train, x_test, y_train, y_test = train_test_split(X, Y, test_size=0.2, random_state=42)\n",
    "\n",
    "epochs = 1000"
   ]
  },
  {
   "cell_type": "code",
   "execution_count": 14,
   "metadata": {},
   "outputs": [
    {
     "name": "stdout",
     "output_type": "stream",
     "text": "poch 801/1000\n149/149 [==============================] - 0s 45us/step - loss: 0.0024 - mae: 0.0296\nEpoch 802/1000\n149/149 [==============================] - 0s 39us/step - loss: 0.0024 - mae: 0.0289\nEpoch 803/1000\n149/149 [==============================] - 0s 37us/step - loss: 0.0024 - mae: 0.0284\nEpoch 804/1000\n149/149 [==============================] - 0s 36us/step - loss: 0.0024 - mae: 0.0284\nEpoch 805/1000\n149/149 [==============================] - 0s 35us/step - loss: 0.0024 - mae: 0.0285\nEpoch 806/1000\n149/149 [==============================] - 0s 39us/step - loss: 0.0024 - mae: 0.0288\nEpoch 807/1000\n149/149 [==============================] - 0s 40us/step - loss: 0.0025 - mae: 0.0296\nEpoch 808/1000\n149/149 [==============================] - 0s 36us/step - loss: 0.0024 - mae: 0.0293\nEpoch 809/1000\n149/149 [==============================] - 0s 41us/step - loss: 0.0024 - mae: 0.0298\nEpoch 810/1000\n149/149 [==============================] - 0s 35us/step - loss: 0.0024 - mae: 0.0292\nEpoch 811/1000\n149/149 [==============================] - 0s 41us/step - loss: 0.0024 - mae: 0.0285\nEpoch 812/1000\n149/149 [==============================] - 0s 45us/step - loss: 0.0024 - mae: 0.0287\nEpoch 813/1000\n149/149 [==============================] - 0s 48us/step - loss: 0.0025 - mae: 0.0304\nEpoch 814/1000\n149/149 [==============================] - 0s 42us/step - loss: 0.0024 - mae: 0.0302\nEpoch 815/1000\n149/149 [==============================] - 0s 38us/step - loss: 0.0024 - mae: 0.0294\nEpoch 816/1000\n149/149 [==============================] - 0s 45us/step - loss: 0.0024 - mae: 0.0289\nEpoch 817/1000\n149/149 [==============================] - 0s 41us/step - loss: 0.0024 - mae: 0.0285\nEpoch 818/1000\n149/149 [==============================] - 0s 49us/step - loss: 0.0024 - mae: 0.0283\nEpoch 819/1000\n149/149 [==============================] - 0s 37us/step - loss: 0.0024 - mae: 0.0288\nEpoch 820/1000\n149/149 [==============================] - 0s 46us/step - loss: 0.0023 - mae: 0.0283\nEpoch 821/1000\n149/149 [==============================] - 0s 49us/step - loss: 0.0024 - mae: 0.0287\nEpoch 822/1000\n149/149 [==============================] - 0s 40us/step - loss: 0.0024 - mae: 0.0285\nEpoch 823/1000\n149/149 [==============================] - 0s 39us/step - loss: 0.0023 - mae: 0.0283\nEpoch 824/1000\n149/149 [==============================] - 0s 36us/step - loss: 0.0024 - mae: 0.0288\nEpoch 825/1000\n149/149 [==============================] - 0s 40us/step - loss: 0.0024 - mae: 0.0291\nEpoch 826/1000\n149/149 [==============================] - 0s 34us/step - loss: 0.0024 - mae: 0.0278\nEpoch 827/1000\n149/149 [==============================] - 0s 39us/step - loss: 0.0024 - mae: 0.0281\nEpoch 828/1000\n149/149 [==============================] - 0s 35us/step - loss: 0.0023 - mae: 0.0290\nEpoch 829/1000\n149/149 [==============================] - 0s 37us/step - loss: 0.0023 - mae: 0.0286\nEpoch 830/1000\n149/149 [==============================] - 0s 39us/step - loss: 0.0023 - mae: 0.0287\nEpoch 831/1000\n149/149 [==============================] - 0s 43us/step - loss: 0.0023 - mae: 0.0294\nEpoch 832/1000\n149/149 [==============================] - 0s 45us/step - loss: 0.0023 - mae: 0.0294\nEpoch 833/1000\n149/149 [==============================] - 0s 45us/step - loss: 0.0024 - mae: 0.0292\nEpoch 834/1000\n149/149 [==============================] - 0s 44us/step - loss: 0.0024 - mae: 0.0292\nEpoch 835/1000\n149/149 [==============================] - 0s 39us/step - loss: 0.0023 - mae: 0.0292\nEpoch 836/1000\n149/149 [==============================] - 0s 43us/step - loss: 0.0023 - mae: 0.0291\nEpoch 837/1000\n149/149 [==============================] - 0s 40us/step - loss: 0.0024 - mae: 0.0288\nEpoch 838/1000\n149/149 [==============================] - 0s 40us/step - loss: 0.0024 - mae: 0.0298\nEpoch 839/1000\n149/149 [==============================] - 0s 48us/step - loss: 0.0023 - mae: 0.0299\nEpoch 840/1000\n149/149 [==============================] - 0s 39us/step - loss: 0.0023 - mae: 0.0284\nEpoch 841/1000\n149/149 [==============================] - 0s 36us/step - loss: 0.0023 - mae: 0.0284\nEpoch 842/1000\n149/149 [==============================] - 0s 36us/step - loss: 0.0023 - mae: 0.0285\nEpoch 843/1000\n149/149 [==============================] - 0s 38us/step - loss: 0.0024 - mae: 0.0294\nEpoch 844/1000\n149/149 [==============================] - 0s 41us/step - loss: 0.0023 - mae: 0.0291\nEpoch 845/1000\n149/149 [==============================] - 0s 34us/step - loss: 0.0023 - mae: 0.0285\nEpoch 846/1000\n149/149 [==============================] - 0s 36us/step - loss: 0.0024 - mae: 0.0297\nEpoch 847/1000\n149/149 [==============================] - 0s 41us/step - loss: 0.0023 - mae: 0.0316\nEpoch 848/1000\n149/149 [==============================] - 0s 40us/step - loss: 0.0023 - mae: 0.0296\nEpoch 849/1000\n149/149 [==============================] - 0s 37us/step - loss: 0.0023 - mae: 0.0290\nEpoch 850/1000\n149/149 [==============================] - 0s 36us/step - loss: 0.0023 - mae: 0.0281\nEpoch 851/1000\n149/149 [==============================] - 0s 34us/step - loss: 0.0023 - mae: 0.0296\nEpoch 852/1000\n149/149 [==============================] - 0s 38us/step - loss: 0.0023 - mae: 0.0301\nEpoch 853/1000\n149/149 [==============================] - 0s 33us/step - loss: 0.0023 - mae: 0.0301\nEpoch 854/1000\n149/149 [==============================] - 0s 52us/step - loss: 0.0023 - mae: 0.0295\nEpoch 855/1000\n149/149 [==============================] - 0s 48us/step - loss: 0.0023 - mae: 0.0285\nEpoch 856/1000\n149/149 [==============================] - 0s 45us/step - loss: 0.0023 - mae: 0.0290\nEpoch 857/1000\n149/149 [==============================] - 0s 34us/step - loss: 0.0023 - mae: 0.0295\nEpoch 858/1000\n149/149 [==============================] - 0s 36us/step - loss: 0.0023 - mae: 0.0294\nEpoch 859/1000\n149/149 [==============================] - 0s 45us/step - loss: 0.0023 - mae: 0.0281\nEpoch 860/1000\n149/149 [==============================] - 0s 48us/step - loss: 0.0023 - mae: 0.0282\nEpoch 861/1000\n149/149 [==============================] - 0s 47us/step - loss: 0.0023 - mae: 0.0285\nEpoch 862/1000\n149/149 [==============================] - 0s 35us/step - loss: 0.0023 - mae: 0.0278\nEpoch 863/1000\n149/149 [==============================] - 0s 42us/step - loss: 0.0023 - mae: 0.0278\nEpoch 864/1000\n149/149 [==============================] - 0s 52us/step - loss: 0.0023 - mae: 0.0286\nEpoch 865/1000\n149/149 [==============================] - 0s 43us/step - loss: 0.0023 - mae: 0.0280\nEpoch 866/1000\n149/149 [==============================] - 0s 43us/step - loss: 0.0023 - mae: 0.0285\nEpoch 867/1000\n149/149 [==============================] - 0s 45us/step - loss: 0.0023 - mae: 0.0288\nEpoch 868/1000\n149/149 [==============================] - 0s 42us/step - loss: 0.0023 - mae: 0.0284\nEpoch 869/1000\n149/149 [==============================] - 0s 38us/step - loss: 0.0023 - mae: 0.0281\nEpoch 870/1000\n149/149 [==============================] - 0s 44us/step - loss: 0.0023 - mae: 0.0276\nEpoch 871/1000\n149/149 [==============================] - 0s 39us/step - loss: 0.0023 - mae: 0.0282\nEpoch 872/1000\n149/149 [==============================] - 0s 38us/step - loss: 0.0023 - mae: 0.0286\nEpoch 873/1000\n149/149 [==============================] - 0s 36us/step - loss: 0.0022 - mae: 0.0276\nEpoch 874/1000\n149/149 [==============================] - 0s 39us/step - loss: 0.0022 - mae: 0.0282\nEpoch 875/1000\n149/149 [==============================] - 0s 42us/step - loss: 0.0022 - mae: 0.0282\nEpoch 876/1000\n149/149 [==============================] - 0s 40us/step - loss: 0.0023 - mae: 0.0281\nEpoch 877/1000\n149/149 [==============================] - 0s 42us/step - loss: 0.0023 - mae: 0.0282\nEpoch 878/1000\n149/149 [==============================] - 0s 44us/step - loss: 0.0023 - mae: 0.0288\nEpoch 879/1000\n149/149 [==============================] - 0s 41us/step - loss: 0.0023 - mae: 0.0283\nEpoch 880/1000\n149/149 [==============================] - 0s 48us/step - loss: 0.0023 - mae: 0.0282\nEpoch 881/1000\n149/149 [==============================] - 0s 47us/step - loss: 0.0023 - mae: 0.0284\nEpoch 882/1000\n149/149 [==============================] - 0s 44us/step - loss: 0.0023 - mae: 0.0290\nEpoch 883/1000\n149/149 [==============================] - 0s 38us/step - loss: 0.0023 - mae: 0.0283\nEpoch 884/1000\n149/149 [==============================] - 0s 38us/step - loss: 0.0022 - mae: 0.0278\nEpoch 885/1000\n149/149 [==============================] - 0s 45us/step - loss: 0.0022 - mae: 0.0286\nEpoch 886/1000\n149/149 [==============================] - 0s 43us/step - loss: 0.0023 - mae: 0.0280\nEpoch 887/1000\n149/149 [==============================] - 0s 43us/step - loss: 0.0023 - mae: 0.0278\nEpoch 888/1000\n149/149 [==============================] - 0s 40us/step - loss: 0.0022 - mae: 0.0276\nEpoch 889/1000\n149/149 [==============================] - 0s 43us/step - loss: 0.0022 - mae: 0.0277\nEpoch 890/1000\n149/149 [==============================] - 0s 43us/step - loss: 0.0023 - mae: 0.0284\nEpoch 891/1000\n149/149 [==============================] - 0s 45us/step - loss: 0.0022 - mae: 0.0277\nEpoch 892/1000\n149/149 [==============================] - 0s 42us/step - loss: 0.0022 - mae: 0.0279\nEpoch 893/1000\n149/149 [==============================] - 0s 39us/step - loss: 0.0022 - mae: 0.0275\nEpoch 894/1000\n149/149 [==============================] - 0s 43us/step - loss: 0.0022 - mae: 0.0273\nEpoch 895/1000\n149/149 [==============================] - 0s 42us/step - loss: 0.0022 - mae: 0.0279\nEpoch 896/1000\n149/149 [==============================] - 0s 44us/step - loss: 0.0022 - mae: 0.0274\nEpoch 897/1000\n149/149 [==============================] - 0s 46us/step - loss: 0.0022 - mae: 0.0279\nEpoch 898/1000\n149/149 [==============================] - 0s 55us/step - loss: 0.0022 - mae: 0.0272\nEpoch 899/1000\n149/149 [==============================] - 0s 74us/step - loss: 0.0022 - mae: 0.0285\nEpoch 900/1000\n149/149 [==============================] - 0s 43us/step - loss: 0.0022 - mae: 0.0294\nEpoch 901/1000\n149/149 [==============================] - 0s 44us/step - loss: 0.0023 - mae: 0.0290\nEpoch 902/1000\n149/149 [==============================] - 0s 55us/step - loss: 0.0022 - mae: 0.0278\nEpoch 903/1000\n149/149 [==============================] - 0s 44us/step - loss: 0.0022 - mae: 0.0284\nEpoch 904/1000\n149/149 [==============================] - 0s 40us/step - loss: 0.0024 - mae: 0.0311\nEpoch 905/1000\n149/149 [==============================] - 0s 39us/step - loss: 0.0025 - mae: 0.0328\nEpoch 906/1000\n149/149 [==============================] - 0s 39us/step - loss: 0.0023 - mae: 0.0293\nEpoch 907/1000\n149/149 [==============================] - 0s 36us/step - loss: 0.0023 - mae: 0.0289\nEpoch 908/1000\n149/149 [==============================] - 0s 36us/step - loss: 0.0022 - mae: 0.0288\nEpoch 909/1000\n149/149 [==============================] - 0s 47us/step - loss: 0.0022 - mae: 0.0280\nEpoch 910/1000\n149/149 [==============================] - 0s 41us/step - loss: 0.0022 - mae: 0.0278\nEpoch 911/1000\n149/149 [==============================] - 0s 39us/step - loss: 0.0022 - mae: 0.0281\nEpoch 912/1000\n149/149 [==============================] - 0s 38us/step - loss: 0.0022 - mae: 0.0278\nEpoch 913/1000\n149/149 [==============================] - 0s 43us/step - loss: 0.0022 - mae: 0.0272\nEpoch 914/1000\n149/149 [==============================] - 0s 46us/step - loss: 0.0022 - mae: 0.0276\nEpoch 915/1000\n149/149 [==============================] - 0s 35us/step - loss: 0.0022 - mae: 0.0280\nEpoch 916/1000\n149/149 [==============================] - 0s 41us/step - loss: 0.0022 - mae: 0.0281\nEpoch 917/1000\n149/149 [==============================] - 0s 37us/step - loss: 0.0022 - mae: 0.0278\nEpoch 918/1000\n149/149 [==============================] - 0s 35us/step - loss: 0.0022 - mae: 0.0284\nEpoch 919/1000\n149/149 [==============================] - 0s 42us/step - loss: 0.0022 - mae: 0.0280\nEpoch 920/1000\n149/149 [==============================] - 0s 40us/step - loss: 0.0022 - mae: 0.0281\nEpoch 921/1000\n149/149 [==============================] - 0s 42us/step - loss: 0.0022 - mae: 0.0272\nEpoch 922/1000\n149/149 [==============================] - 0s 40us/step - loss: 0.0022 - mae: 0.0272\nEpoch 923/1000\n149/149 [==============================] - 0s 35us/step - loss: 0.0022 - mae: 0.0272\nEpoch 924/1000\n149/149 [==============================] - 0s 35us/step - loss: 0.0022 - mae: 0.0271\nEpoch 925/1000\n149/149 [==============================] - 0s 36us/step - loss: 0.0022 - mae: 0.0268\nEpoch 926/1000\n149/149 [==============================] - 0s 40us/step - loss: 0.0022 - mae: 0.0273\nEpoch 927/1000\n149/149 [==============================] - 0s 40us/step - loss: 0.0022 - mae: 0.0287\nEpoch 928/1000\n149/149 [==============================] - 0s 48us/step - loss: 0.0022 - mae: 0.0279\nEpoch 929/1000\n149/149 [==============================] - 0s 42us/step - loss: 0.0022 - mae: 0.0272\nEpoch 930/1000\n149/149 [==============================] - 0s 40us/step - loss: 0.0022 - mae: 0.0270\nEpoch 931/1000\n149/149 [==============================] - 0s 45us/step - loss: 0.0022 - mae: 0.0268\nEpoch 932/1000\n149/149 [==============================] - 0s 47us/step - loss: 0.0022 - mae: 0.0274\nEpoch 933/1000\n149/149 [==============================] - 0s 49us/step - loss: 0.0022 - mae: 0.0280\nEpoch 934/1000\n149/149 [==============================] - 0s 36us/step - loss: 0.0022 - mae: 0.0272\nEpoch 935/1000\n149/149 [==============================] - 0s 43us/step - loss: 0.0022 - mae: 0.0274\nEpoch 936/1000\n149/149 [==============================] - 0s 34us/step - loss: 0.0022 - mae: 0.0275\nEpoch 937/1000\n149/149 [==============================] - 0s 36us/step - loss: 0.0022 - mae: 0.0275\nEpoch 938/1000\n149/149 [==============================] - 0s 38us/step - loss: 0.0021 - mae: 0.0272\nEpoch 939/1000\n149/149 [==============================] - 0s 38us/step - loss: 0.0022 - mae: 0.0276\nEpoch 940/1000\n149/149 [==============================] - 0s 35us/step - loss: 0.0021 - mae: 0.0271\nEpoch 941/1000\n149/149 [==============================] - 0s 39us/step - loss: 0.0021 - mae: 0.0265\nEpoch 942/1000\n149/149 [==============================] - 0s 33us/step - loss: 0.0022 - mae: 0.0273\nEpoch 943/1000\n149/149 [==============================] - 0s 39us/step - loss: 0.0021 - mae: 0.0277\nEpoch 944/1000\n149/149 [==============================] - 0s 58us/step - loss: 0.0021 - mae: 0.0270\nEpoch 945/1000\n149/149 [==============================] - 0s 46us/step - loss: 0.0022 - mae: 0.0277\nEpoch 946/1000\n149/149 [==============================] - 0s 42us/step - loss: 0.0021 - mae: 0.0272\nEpoch 947/1000\n149/149 [==============================] - 0s 42us/step - loss: 0.0022 - mae: 0.0272\nEpoch 948/1000\n149/149 [==============================] - 0s 44us/step - loss: 0.0021 - mae: 0.0277\nEpoch 949/1000\n149/149 [==============================] - 0s 43us/step - loss: 0.0022 - mae: 0.0274\nEpoch 950/1000\n149/149 [==============================] - 0s 43us/step - loss: 0.0021 - mae: 0.0281\nEpoch 951/1000\n149/149 [==============================] - 0s 48us/step - loss: 0.0021 - mae: 0.0278\nEpoch 952/1000\n149/149 [==============================] - 0s 49us/step - loss: 0.0021 - mae: 0.0278\nEpoch 953/1000\n149/149 [==============================] - 0s 43us/step - loss: 0.0022 - mae: 0.0271\nEpoch 954/1000\n149/149 [==============================] - 0s 46us/step - loss: 0.0021 - mae: 0.0276\nEpoch 955/1000\n149/149 [==============================] - 0s 37us/step - loss: 0.0021 - mae: 0.0274\nEpoch 956/1000\n149/149 [==============================] - 0s 45us/step - loss: 0.0021 - mae: 0.0271\nEpoch 957/1000\n149/149 [==============================] - 0s 41us/step - loss: 0.0022 - mae: 0.0270\nEpoch 958/1000\n149/149 [==============================] - 0s 38us/step - loss: 0.0021 - mae: 0.0276\nEpoch 959/1000\n149/149 [==============================] - 0s 40us/step - loss: 0.0021 - mae: 0.0271\nEpoch 960/1000\n149/149 [==============================] - 0s 36us/step - loss: 0.0021 - mae: 0.0274\nEpoch 961/1000\n149/149 [==============================] - 0s 44us/step - loss: 0.0021 - mae: 0.0274\nEpoch 962/1000\n149/149 [==============================] - 0s 38us/step - loss: 0.0021 - mae: 0.0273\nEpoch 963/1000\n149/149 [==============================] - 0s 35us/step - loss: 0.0021 - mae: 0.0269\nEpoch 964/1000\n149/149 [==============================] - 0s 36us/step - loss: 0.0021 - mae: 0.0273\nEpoch 965/1000\n149/149 [==============================] - 0s 35us/step - loss: 0.0021 - mae: 0.0264\nEpoch 966/1000\n149/149 [==============================] - 0s 40us/step - loss: 0.0021 - mae: 0.0269\nEpoch 967/1000\n149/149 [==============================] - 0s 34us/step - loss: 0.0021 - mae: 0.0270\nEpoch 968/1000\n149/149 [==============================] - 0s 38us/step - loss: 0.0022 - mae: 0.0275\nEpoch 969/1000\n149/149 [==============================] - 0s 45us/step - loss: 0.0021 - mae: 0.0275\nEpoch 970/1000\n149/149 [==============================] - 0s 34us/step - loss: 0.0021 - mae: 0.0272\nEpoch 971/1000\n149/149 [==============================] - 0s 38us/step - loss: 0.0021 - mae: 0.0270\nEpoch 972/1000\n149/149 [==============================] - 0s 38us/step - loss: 0.0021 - mae: 0.0273\nEpoch 973/1000\n149/149 [==============================] - 0s 39us/step - loss: 0.0021 - mae: 0.0267\nEpoch 974/1000\n149/149 [==============================] - 0s 41us/step - loss: 0.0022 - mae: 0.0271\nEpoch 975/1000\n149/149 [==============================] - 0s 34us/step - loss: 0.0021 - mae: 0.0280\nEpoch 976/1000\n149/149 [==============================] - 0s 42us/step - loss: 0.0022 - mae: 0.0292\nEpoch 977/1000\n149/149 [==============================] - 0s 38us/step - loss: 0.0021 - mae: 0.0275\nEpoch 978/1000\n149/149 [==============================] - 0s 38us/step - loss: 0.0021 - mae: 0.0278\nEpoch 979/1000\n149/149 [==============================] - 0s 38us/step - loss: 0.0021 - mae: 0.0270\nEpoch 980/1000\n149/149 [==============================] - 0s 35us/step - loss: 0.0021 - mae: 0.0276\nEpoch 981/1000\n149/149 [==============================] - 0s 45us/step - loss: 0.0021 - mae: 0.0277\nEpoch 982/1000\n149/149 [==============================] - 0s 42us/step - loss: 0.0022 - mae: 0.0279\nEpoch 983/1000\n149/149 [==============================] - 0s 52us/step - loss: 0.0021 - mae: 0.0274\nEpoch 984/1000\n149/149 [==============================] - 0s 44us/step - loss: 0.0021 - mae: 0.0283\nEpoch 985/1000\n149/149 [==============================] - 0s 45us/step - loss: 0.0021 - mae: 0.0265\nEpoch 986/1000\n149/149 [==============================] - 0s 38us/step - loss: 0.0022 - mae: 0.0270\nEpoch 987/1000\n149/149 [==============================] - 0s 46us/step - loss: 0.0021 - mae: 0.0276\nEpoch 988/1000\n149/149 [==============================] - 0s 34us/step - loss: 0.0021 - mae: 0.0267\nEpoch 989/1000\n149/149 [==============================] - 0s 44us/step - loss: 0.0021 - mae: 0.0268\nEpoch 990/1000\n149/149 [==============================] - 0s 47us/step - loss: 0.0021 - mae: 0.0265\nEpoch 991/1000\n149/149 [==============================] - 0s 44us/step - loss: 0.0021 - mae: 0.0270\nEpoch 992/1000\n149/149 [==============================] - 0s 51us/step - loss: 0.0021 - mae: 0.0269\nEpoch 993/1000\n149/149 [==============================] - 0s 43us/step - loss: 0.0021 - mae: 0.0265\nEpoch 994/1000\n149/149 [==============================] - 0s 49us/step - loss: 0.0021 - mae: 0.0266\nEpoch 995/1000\n149/149 [==============================] - 0s 42us/step - loss: 0.0021 - mae: 0.0265\nEpoch 996/1000\n149/149 [==============================] - 0s 36us/step - loss: 0.0021 - mae: 0.0262\nEpoch 997/1000\n149/149 [==============================] - 0s 46us/step - loss: 0.0021 - mae: 0.0260\nEpoch 998/1000\n149/149 [==============================] - 0s 39us/step - loss: 0.0021 - mae: 0.0263\nEpoch 999/1000\n149/149 [==============================] - 0s 54us/step - loss: 0.0021 - mae: 0.0260\nEpoch 1000/1000\n149/149 [==============================] - 0s 34us/step - loss: 0.0021 - mae: 0.0265\n"
    },
    {
     "data": {
      "text/plain": "<keras.callbacks.callbacks.History at 0x7f56faf51450>"
     },
     "execution_count": 14,
     "metadata": {},
     "output_type": "execute_result"
    }
   ],
   "source": [
    "# NN Architecture creation\n",
    "model = Sequential()\n",
    "model.add(Dense(8, input_shape=x_train[0].shape))\n",
    "model.add(PReLU())\n",
    "model.add(Dense(16))\n",
    "model.add(PReLU())\n",
    "model.add(Dense(1))\n",
    "\n",
    "model.compile(optimizer='adam', loss='mean_squared_error', metrics=['mae'])\n",
    "model.fit(x_train, y_train, epochs=epochs)"
   ]
  },
  {
   "cell_type": "code",
   "execution_count": 15,
   "metadata": {},
   "outputs": [
    {
     "name": "stdout",
     "output_type": "stream",
     "text": "sampleID               dateTime  sourceCode   latitude  longitude  \\\n0        3496   6/12/2009 6:12:49 AM          13  51.496868   9.386022   \n1        3496   6/12/2009 6:12:54 AM          13  51.496682   9.386157   \n2        3496   6/12/2009 6:12:59 AM          13  51.496705   9.386422   \n3        3496   6/12/2009 6:13:04 AM          13  51.496749   9.386840   \n4        3496   6/12/2009 6:13:09 AM          13  51.496864   9.387294   \n..        ...                    ...         ...        ...        ...   \n182      4553  6/13/2009 11:45:52 AM          13  53.062488   8.788583   \n183      4553  6/13/2009 11:45:57 AM          13  53.062488   8.788583   \n184      4553  6/13/2009 11:46:03 AM          13  53.062489   8.788584   \n185      4553  6/13/2009 11:46:08 AM          13  53.062489   8.788583   \n186      4553  6/13/2009 11:46:13 AM          13  53.062489   8.788584   \n\n     altitude  speed  heading   linkPVID direction    distFromRef  \\\n0         200     23      339   51914420         F  103268.199398   \n1         200     10      129  567329767         F      12.399146   \n2         201     21       60  567329767         F      10.434681   \n3         201      0      360  567329767         F      20.407998   \n4         199      0      360  567329767         F      80.101542   \n..        ...    ...      ...        ...       ...            ...   \n182        37      0      199  726168530         F    6193.641922   \n183        36      0      203  726168530         F    6193.845798   \n184        36      0      209  726168530         F    6194.137508   \n185        37      0      198  726168530         F    6194.257566   \n186        37      0      206  726168530         F    6194.455607   \n\n     distFromLink  predicted_avg_slope  actual_avg_slope  \n0        0.038156            -0.116616          -0.01444  \n1        0.857315            -0.009743          -0.01444  \n2       16.163155            -0.002994          -0.01444  \n3       41.489531             0.000727          -0.01444  \n4        2.640791            -0.021177          -0.01444  \n..            ...                  ...               ...  \n182    934.017556            -0.128135          -0.25900  \n183    932.645776            -0.204238          -0.25900  \n184    930.471333            -0.128135          -0.25900  \n185    929.944508            -0.071401          -0.25900  \n186    928.530157            -0.128135          -0.25900  \n\n[187 rows x 14 columns]\n"
    }
   ],
   "source": [
    "# Adding predicted average slope and given average slope to the final csv\n",
    "df_matched_points['predicted_avg_slope'] = model.predict(X)\n",
    "df_matched_points['actual_avg_slope'] = Y"
   ]
  },
  {
   "cell_type": "code",
   "execution_count": 16,
   "metadata": {},
   "outputs": [],
   "source": [
    "df_matched_points.to_csv('matched_points_final.csv', float_format='%g')"
   ]
  },
  {
   "cell_type": "code",
   "execution_count": null,
   "metadata": {},
   "outputs": [],
   "source": [
    "print(Y)"
   ]
  },
  {
   "cell_type": "code",
   "execution_count": null,
   "metadata": {},
   "outputs": [],
   "source": []
  }
 ]
}